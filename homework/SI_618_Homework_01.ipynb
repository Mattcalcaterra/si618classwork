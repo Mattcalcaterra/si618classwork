{
 "cells": [
  {
   "cell_type": "markdown",
   "metadata": {
    "colab_type": "text",
    "id": "UGqk3SzXsMR3"
   },
   "source": [
    "# SI 618 - Homework #1: Data Manipulation\n",
    "\n",
    "Version 2023.09.06.01.CT (Fall 2023)"
   ]
  },
  {
   "cell_type": "markdown",
   "metadata": {
    "colab_type": "text",
    "id": "Crxe7LeXJ9yn"
   },
   "source": [
    "## Background"
   ]
  },
  {
   "cell_type": "markdown",
   "metadata": {
    "colab_type": "text",
    "id": "1IaTA3GNJ9yo"
   },
   "source": [
    "This homework assignment focuses on the analysis of biometric data and exercise performance."
   ]
  },
  {
   "cell_type": "markdown",
   "metadata": {
    "colab_type": "text",
    "id": "jae-nANHJ9yp"
   },
   "source": [
    "Your main task in this assignment is to explore the data *using the data\n",
    "manipulation methods we covered in class*, as well as those in the assigned readings and video resources.  You may need to consult pandas documentation, Stack Overflow, Copilot, or other online resources.  \n"
   ]
  },
  {
   "cell_type": "markdown",
   "metadata": {
    "colab_type": "text",
    "id": "pbqbtPreaCjs"
   },
   "source": [
    "A total of 100 points is available in this homework assignment, broken down as shown beside each question and in the accompanying rubric in Canvas.  Please note that to receive full points, code should conform to  [PEP 8](https://www.python.org/dev/peps/pep-0008/) guidelines, and written responses should be grammatically correct, free of spelling errors, and generally follow the [Strunk & White](https://drive.google.com/file/d/1L0P7xJwjUGBvyb49mL3dw1Bt7hzRTiTl/view) guidelines.  You should review those guidelines before proceding with the assignment."
   ]
  },
  {
   "cell_type": "markdown",
   "metadata": {
    "colab_type": "text",
    "id": "Pr9WBUQyZY4V",
    "tags": []
   },
   "source": [
    "## Download the data from: \n",
    "https://www.kaggle.com/kukuroo3/body-performance-data\n"
   ]
  },
  {
   "cell_type": "code",
   "execution_count": 2,
   "metadata": {},
   "outputs": [],
   "source": [
    "MY_UNIQNAME = 'mattcalc' # please fill in your uniqname"
   ]
  },
  {
   "cell_type": "markdown",
   "metadata": {
    "colab_type": "text",
    "id": "8EV1PilWtl0Z"
   },
   "source": [
    "## Answer the following questions.\n",
    "Points for each question are shown below.\n",
    "\n",
    "For each question, you should\n",
    "1. Write code using Python and pandas that can help you answer the following questions, and\n",
    "2. Explain your answers in plain English. You should use complete sentences that would be understood by an educated professional who is not necessarily a data scientist (like a product manager).  When we ask for an explanation of your answer, we are interested in your interpretation of the analyses that you produce.  With the exception of Question 1a, we are not interested in a description of the steps you took to arrive at your answer."
   ]
  },
  {
   "cell_type": "markdown",
   "metadata": {
    "colab_type": "text",
    "id": "PfjXDtHoabcS",
    "tags": []
   },
   "source": [
    "### <span style=\"color:magenta\"> Q1: 8 pt(total):</span>\n",
    "#### Q1a (3pt): Write out the steps you need to follow in order to describe the dataset, in terms of size, number of rows, and number of columns.\n",
    "\n"
   ]
  },
  {
   "cell_type": "markdown",
   "metadata": {},
   "source": [
    "### Steps needed:\n",
    "1. Load pandas\n",
    "1. Read the dataset into pandas dataframe\n",
    "1. The property `.columns` can be used to determine the number of columns\n",
    "1. The property `.rows` can be used to determine the number of rows\n",
    "    * alternatively the property `.shape` can be used to return both the number of rows and the number of columns"
   ]
  },
  {
   "cell_type": "markdown",
   "metadata": {},
   "source": [
    "#### Q1b (5pt): Write and execute the code that will do the steps you identified in Part (a) of this question."
   ]
  },
  {
   "cell_type": "code",
   "execution_count": 3,
   "metadata": {},
   "outputs": [
    {
     "name": "stdout",
     "output_type": "stream",
     "text": [
      "The dataset has 13393 rows and 12 columns\n"
     ]
    }
   ],
   "source": [
    "import pandas as pd\n",
    "import numpy as np\n",
    "import matplotlib.pyplot as plt\n",
    "\n",
    "\n",
    "body_df = pd.read_csv('../data/bodyPerformance.csv')\n",
    "body_df.shape\n",
    "print(f'The dataset has {body_df.shape[0]} rows and {body_df.shape[1]} columns')\n"
   ]
  },
  {
   "cell_type": "markdown",
   "metadata": {},
   "source": [
    "We start by loading pandas into python, then we load our dataset into a pandas dataframe. We then use `.shape` to retrieve a tuple containg the number of rows and columns.\n",
    "\n",
    "This data set has 13393 rows and 12 columns."
   ]
  },
  {
   "cell_type": "markdown",
   "metadata": {},
   "source": [
    "### <span style=\"color:magenta\">Q2: 5 pt:</span>\n",
    "Without using pd.DataFrame.describe(), report the median age, height, and weight for people in the data. Round your answer to the nearest whole number.  Be sure to indicate units for each variable in your write-up."
   ]
  },
  {
   "cell_type": "code",
   "execution_count": 4,
   "metadata": {},
   "outputs": [
    {
     "name": "stdout",
     "output_type": "stream",
     "text": [
      "The median age is 32 years old\n",
      "The median height is 169.2 cm\n",
      "The median weight is 67.4 kg\n"
     ]
    }
   ],
   "source": [
    "median_age = body_df['age'].median()\n",
    "median_height = body_df['height_cm'].median()\n",
    "median_weight = body_df['weight_kg'].median()\n",
    "\n",
    "print(f'The median age is {median_age:.0f} years old')\n",
    "print(f'The median height is {median_height} cm') \n",
    "print(f'The median weight is {median_weight} kg')"
   ]
  },
  {
   "cell_type": "markdown",
   "metadata": {},
   "source": [
    "We can use the method `.median()` to find the median of a specific column. We selected the column by using `df['column_name']` notation and passing the results to the `.median(method)`\n",
    "\n",
    "- The median age is 32 years old\n",
    "- The median height is 169.2 cm\n",
    "- The median weight is 67.4 kg\n"
   ]
  },
  {
   "cell_type": "markdown",
   "metadata": {},
   "source": [
    "### <span style=\"color:magenta\">Q3: 5 pt: </span>\n",
    "Look for any anomalous data points.  For example, are there cases where diastolic blood pressure is higher than systolic blood pressure (which is physiologically impossible)?  Do you notice any other anomalies?"
   ]
  },
  {
   "cell_type": "code",
   "execution_count": 5,
   "metadata": {},
   "outputs": [
    {
     "data": {
      "text/html": [
       "<div>\n",
       "<style scoped>\n",
       "    .dataframe tbody tr th:only-of-type {\n",
       "        vertical-align: middle;\n",
       "    }\n",
       "\n",
       "    .dataframe tbody tr th {\n",
       "        vertical-align: top;\n",
       "    }\n",
       "\n",
       "    .dataframe thead th {\n",
       "        text-align: right;\n",
       "    }\n",
       "</style>\n",
       "<table border=\"1\" class=\"dataframe\">\n",
       "  <thead>\n",
       "    <tr style=\"text-align: right;\">\n",
       "      <th></th>\n",
       "      <th>age</th>\n",
       "      <th>gender</th>\n",
       "      <th>height_cm</th>\n",
       "      <th>weight_kg</th>\n",
       "      <th>body fat_%</th>\n",
       "      <th>diastolic</th>\n",
       "      <th>systolic</th>\n",
       "      <th>gripForce</th>\n",
       "      <th>sit and bend forward_cm</th>\n",
       "      <th>sit-ups counts</th>\n",
       "      <th>broad jump_cm</th>\n",
       "      <th>class</th>\n",
       "    </tr>\n",
       "  </thead>\n",
       "  <tbody>\n",
       "    <tr>\n",
       "      <th>7495</th>\n",
       "      <td>30.0</td>\n",
       "      <td>F</td>\n",
       "      <td>156.2</td>\n",
       "      <td>52.80</td>\n",
       "      <td>28.2</td>\n",
       "      <td>156.2</td>\n",
       "      <td>104.0</td>\n",
       "      <td>21.7</td>\n",
       "      <td>27.2</td>\n",
       "      <td>43.0</td>\n",
       "      <td>162.0</td>\n",
       "      <td>C</td>\n",
       "    </tr>\n",
       "    <tr>\n",
       "      <th>7597</th>\n",
       "      <td>30.0</td>\n",
       "      <td>M</td>\n",
       "      <td>166.6</td>\n",
       "      <td>66.08</td>\n",
       "      <td>14.4</td>\n",
       "      <td>67.0</td>\n",
       "      <td>14.0</td>\n",
       "      <td>53.8</td>\n",
       "      <td>17.2</td>\n",
       "      <td>57.0</td>\n",
       "      <td>221.0</td>\n",
       "      <td>A</td>\n",
       "    </tr>\n",
       "    <tr>\n",
       "      <th>8217</th>\n",
       "      <td>31.0</td>\n",
       "      <td>M</td>\n",
       "      <td>176.7</td>\n",
       "      <td>80.32</td>\n",
       "      <td>20.8</td>\n",
       "      <td>46.2</td>\n",
       "      <td>43.9</td>\n",
       "      <td>43.9</td>\n",
       "      <td>17.2</td>\n",
       "      <td>57.0</td>\n",
       "      <td>221.0</td>\n",
       "      <td>B</td>\n",
       "    </tr>\n",
       "    <tr>\n",
       "      <th>12949</th>\n",
       "      <td>24.0</td>\n",
       "      <td>M</td>\n",
       "      <td>171.0</td>\n",
       "      <td>78.70</td>\n",
       "      <td>20.0</td>\n",
       "      <td>99.0</td>\n",
       "      <td>95.0</td>\n",
       "      <td>46.5</td>\n",
       "      <td>12.8</td>\n",
       "      <td>50.0</td>\n",
       "      <td>197.0</td>\n",
       "      <td>D</td>\n",
       "    </tr>\n",
       "  </tbody>\n",
       "</table>\n",
       "</div>"
      ],
      "text/plain": [
       "        age gender  height_cm  weight_kg  body fat_%  diastolic  systolic  \\\n",
       "7495   30.0      F      156.2      52.80        28.2      156.2     104.0   \n",
       "7597   30.0      M      166.6      66.08        14.4       67.0      14.0   \n",
       "8217   31.0      M      176.7      80.32        20.8       46.2      43.9   \n",
       "12949  24.0      M      171.0      78.70        20.0       99.0      95.0   \n",
       "\n",
       "       gripForce  sit and bend forward_cm  sit-ups counts  broad jump_cm class  \n",
       "7495        21.7                     27.2            43.0          162.0     C  \n",
       "7597        53.8                     17.2            57.0          221.0     A  \n",
       "8217        43.9                     17.2            57.0          221.0     B  \n",
       "12949       46.5                     12.8            50.0          197.0     D  "
      ]
     },
     "execution_count": 5,
     "metadata": {},
     "output_type": "execute_result"
    }
   ],
   "source": [
    "body_df[body_df.diastolic > body_df.systolic]\n"
   ]
  },
  {
   "cell_type": "markdown",
   "metadata": {},
   "source": [
    "We can apply a boolean mask to our dataframe which only returns the rows of the datafram where the diatolic blood pressure is greater than systolic blood pressure\n",
    "\n",
    "There are 4 rows which have a diastolic blood pressure which is greater than the systolic blood pressure.\n",
    "- 7495\n",
    "- 7597\n",
    "- 8217\n",
    "- 12949\n",
    "\n",
    "Looking through the other columns in the data I do not notice any other anomolies"
   ]
  },
  {
   "cell_type": "markdown",
   "metadata": {},
   "source": [
    "### <span style=\"color:magenta\">Q4: 11 pt:</span>\n",
    "Generate histogram plots for the age, weight, and height for that allow you to visualize differences between gender M and gender F participants. Describe the plots and point out any interesting aspects. You are not permitted to use Seaborn, Bokeh, or Plotly to create your visualizations (i.e. you can only use the matplotlib-pandas integrations)."
   ]
  },
  {
   "cell_type": "code",
   "execution_count": 30,
   "metadata": {},
   "outputs": [
    {
     "data": {
      "text/plain": [
       "array([<Axes: title={'center': 'F'}>, <Axes: title={'center': 'M'}>],\n",
       "      dtype=object)"
      ]
     },
     "execution_count": 30,
     "metadata": {},
     "output_type": "execute_result"
    },
    {
     "data": {
      "image/png": "[encoded data removed]",
      "text/plain": [
       "<Figure size 640x480 with 2 Axes>"
      ]
     },
     "metadata": {},
     "output_type": "display_data"
    }
   ],
   "source": [
    "body_df_gender = body_df.groupby('gender')\n",
    "\n",
    "body_df.hist(column=['age', 'weight_kg', 'height_cm'], by='gender', legend=True, sharex=True, sharey=True)\n"
   ]
  },
  {
   "cell_type": "markdown",
   "metadata": {},
   "source": [
    "Based on the histograms we can see that the males in the data set had a higher median height and weight.\n",
    "\n",
    "Another point of interest from the graphs is that the males have a slightly greater skew in the distribution of weight."
   ]
  },
  {
   "cell_type": "markdown",
   "metadata": {
    "colab_type": "text",
    "id": "0u5VM5ksbCTm"
   },
   "source": [
    "### <span style=\"color:magenta\">Q5: 16 pt:</span>\n",
    "[Blood pressure](https://www.health.harvard.edu/heart-health/reading-the-new-blood-pressure-guidelines) is reported as two numbers: diastolic (the lower number) and systolic (the higher number).  So, for example, if a person has a diastolic measurement of 80 and a systolic measurement of 120, the person's blood pressure would be reported as 120/80.\n",
    "\n",
    "Blood pressure measurements fall into several categories:\n",
    "\n",
    "Normal blood pressure. Your blood pressure is normal if it's below 120/80 mm Hg.\n",
    "\n",
    "Elevated blood pressure. Elevated blood pressure is a systolic pressure ranging from 120 to 129 mm Hg and a diastolic pressure below (not above) 80 mm Hg. Elevated blood pressure may also be called prehypertension.\n",
    "\n",
    "Stage 1 hypertension. Stage 1 hypertension is a systolic pressure ranging from 130 to 139 mm Hg or a diastolic pressure ranging from 80 to 89 mm Hg.\n",
    "\n",
    "Stage 2 hypertension. More-severe hypertension, stage 2 hypertension is a systolic pressure of 140 mm Hg or higher or a diastolic pressure of 90 mm Hg or higher.\n",
    "\n",
    "Hypertensive crisis. A blood pressure measurement higher than 180/120 mm Hg is an emergency situation that requires urgent medical care.\n",
    "\n",
    "a) Report the number of people in each of those categories.\n",
    "\n",
    "b) The guidelines were recently changed: prior to 2017, the guidelines set the threshold at 140/90 mm Hg for people younger than age 65 and 150/80 mm Hg for those ages 65 and older to be diagnosed with hypertension. Create and implement analyses that allow you to demonstrate how the change in guidelines affects the categorization of people into the different categories.\n",
    "Make reasonable assumptions (and state them) about whether to use diastolic, systolic, both, or either of those measures when implementing your analysis.  Note that the new guidelines offer more categories than the older guidelines."
   ]
  },
  {
   "cell_type": "code",
   "execution_count": 7,
   "metadata": {},
   "outputs": [
    {
     "name": "stdout",
     "output_type": "stream",
     "text": [
      "The number of people with normal blood pressure is 2898\n",
      "The number of people with elevated blood pressure is 2090\n",
      "The number of people with stage 1 hypertension is 5936\n",
      "The number of people with stage 2 hypertension is 4418\n",
      "The number of people with hypertensive crisis is 1\n",
      "\n",
      "The number of people with hypertension prior to 2017 is 1689\n",
      "The number of people with stage 1 or stage 2 hypertension post-2017 was 10354\n",
      "The number of people classified as hypertensive changed by 8665 following the 2017 guideline changes\n"
     ]
    }
   ],
   "source": [
    "normal_bp = body_df[(body_df.diastolic < 80) & (body_df.systolic < 120)]\n",
    "elevated_bp = body_df[(body_df.diastolic < 80) & (body_df.systolic >= 120) & (body_df.systolic <= 129)]\n",
    "stage1_hypertension = body_df[(body_df.diastolic >= 80) & (body_df.diastolic <= 89) | (body_df.systolic >= 130) & (body_df.systolic <= 139)]\n",
    "stage2_hypertension = body_df[(body_df.diastolic >= 90) | (body_df.systolic >= 140)]\n",
    "Hypertensive_crisis = body_df[(body_df.diastolic > 120) & (body_df.systolic > 180)]\n",
    "\n",
    "\n",
    "print(f'The number of people with normal blood pressure is {normal_bp.shape[0]}')\n",
    "print(f'The number of people with elevated blood pressure is {elevated_bp.shape[0]}')\n",
    "print(f'The number of people with stage 1 hypertension is {stage1_hypertension.shape[0]}')\n",
    "print(f'The number of people with stage 2 hypertension is {stage2_hypertension.shape[0]}')\n",
    "print(f'The number of people with hypertensive crisis is {Hypertensive_crisis.shape[0]}')\n",
    "\n",
    "\n",
    "hypertension_2017 = body_df[((body_df.diastolic >= 90) & (body_df.systolic >= 140) & (body_df.age < 65)) | ((body_df.systolic >= 150) & (body_df.age >= 65) & (body_df.diastolic >= 80))]\n",
    "print()\n",
    "print(f'The number of people with hypertension prior to 2017 is {hypertension_2017.shape[0]}')\n",
    "print(f'The number of people with stage 1 or stage 2 hypertension post-2017 was {stage1_hypertension.shape[0] + stage2_hypertension.shape[0]}')\n",
    "print(f'The number of people classified as hypertensive changed by {(stage1_hypertension.shape[0] + stage2_hypertension.shape[0]) - hypertension_2017.shape[0]} following the 2017 guideline changes')"
   ]
  },
  {
   "cell_type": "markdown",
   "metadata": {
    "colab_type": "text",
    "id": "CCuxztg3uYPQ"
   },
   "source": [
    "The number of people with normal blood pressure is 2898\n",
    "The number of people with elevated blood pressure is 2090\n",
    "The number of people with stage 1 hypertension is 5936\n",
    "The number of people with stage 2 hypertension is 4418\n",
    "The number of people with hypertensive crisis is 1\n",
    "\n",
    "The number of people with hypertension prior to 2017 is 1689\n",
    "The number of people with stage 1 or stage 2 hypertension post-2017 was 10354\n",
    "The number of people classified as hypertensive changed by 8665 following the 2017 guideline changes\n",
    "\n",
    "The changes in the guidlines in 2017 lead to the increase in those classified with hypertension by just under 9000 in this dataset. For the calculations under the old guidelines it was assumed that you fell into the hypertensive category if you exceeded both the systolic and diastolic blood pressure threshold. This may contribute to the lower number of hypertensive patient found using the pre-2017 guidelines.\n"
   ]
  },
  {
   "cell_type": "markdown",
   "metadata": {
    "colab_type": "text",
    "id": "2wH5ikUcbb16",
    "tags": []
   },
   "source": [
    "### <span style=\"color:magenta\">Q6: 10 pt:</span>\n",
    "Create a new variable \"age_class\" that is \"early\" if age < 40, \"middle\" if age is between 40 and 60 (inclusive) and \"late\" if age > 60.  Report the mean and median number of sit-ups counts for each of those categories.\n"
   ]
  },
  {
   "cell_type": "code",
   "execution_count": 8,
   "metadata": {
    "colab": {},
    "colab_type": "code",
    "id": "GneWWgFVt62N"
   },
   "outputs": [
    {
     "name": "stdout",
     "output_type": "stream",
     "text": [
      "age_class\n",
      "early     45.151154\n",
      "middle    31.413652\n",
      "late      24.060166\n",
      "Name: sit-ups counts, dtype: float64\n",
      "\n",
      "age_class\n",
      "early     46.0\n",
      "middle    32.0\n",
      "late      25.0\n",
      "Name: sit-ups counts, dtype: float64\n"
     ]
    }
   ],
   "source": [
    "body_df['age_class'] = pd.cut(body_df.age, bins=[0, 40, 60, 200], labels=['early', 'middle', 'late'])\n",
    "print(body_df['sit-ups counts'].groupby(body_df['age_class']).mean())\n",
    "print()\n",
    "print(body_df['sit-ups counts'].groupby(body_df['age_class']).median())"
   ]
  },
  {
   "cell_type": "markdown",
   "metadata": {
    "colab_type": "text",
    "id": "WlWYu2_5uY7K"
   },
   "source": [
    "#### The mean number of sit-ups for each age class are as follows:\n",
    "- early     45.151154\n",
    "- middle    31.413652\n",
    "- late      24.060166\n",
    "\n",
    "#### The median number of sit-ups for each age class are as follows:\n",
    "- early     46.0\n",
    "- middle    32.0\n",
    "- late      25.0\n",
    "\n",
    "These results indicate that there is a pretty even ditribution among the sit-up data in our dataset"
   ]
  },
  {
   "cell_type": "markdown",
   "metadata": {},
   "source": [
    "### <span style=\"color:magenta\">Q7: 15 pt: </span>\n",
    "Calculate each person's Body Mass Index (BMI).  With the metric system, the formula for BMI is weight in kilograms divided by height in meters squared. Since height is commonly measured in centimeters, an alternate calculation formula, dividing the weight in kilograms by the height in centimeters squared, and then multiplying the result by 10,000, can be used. (https://www.cdc.gov/nccdphp/dnpao/growthcharts/training/bmiage/page5_1.html)\n",
    "\n",
    "Create two histograms of BMI: one for gender F and one for gender M.  Describe similarites and differences of the two histograms."
   ]
  },
  {
   "cell_type": "code",
   "execution_count": 35,
   "metadata": {},
   "outputs": [
    {
     "data": {
      "text/plain": [
       "array([<Axes: title={'center': 'F'}>, <Axes: title={'center': 'M'}>],\n",
       "      dtype=object)"
      ]
     },
     "execution_count": 35,
     "metadata": {},
     "output_type": "execute_result"
    },
    {
     "data": {
      "image/png": "[encoded data removed]",
      "text/plain": [
       "<Figure size 640x480 with 2 Axes>"
      ]
     },
     "metadata": {},
     "output_type": "display_data"
    }
   ],
   "source": [
    "body_df['BMI'] = body_df.weight_kg / ((body_df.height_cm/100)**2)\n",
    "body_df.hist(column='BMI', by='gender', sharex=True, sharey=True)"
   ]
  },
  {
   "cell_type": "markdown",
   "metadata": {
    "colab_type": "text",
    "id": "CCuxztg3uYPQ"
   },
   "source": [
    "Both graphs show a median around 25 for the BMI, however the female BMI is slightly lower.\n",
    "\n",
    "Additionally, the distribution of male BMI appears to close to normal, while the distribution for female BMI is slightly right skewed"
   ]
  },
  {
   "cell_type": "markdown",
   "metadata": {
    "colab_type": "text",
    "id": "7n5ybXFQcR-g"
   },
   "source": [
    "### <span style=\"color:magenta\">Q8: 12 pt: </span>\n",
    "Compare the mean values of height, weight, body fat %, grip force, sit and bend forward, and sit-ups count for gender F vs. gender M.  You should use both quantitative and visual methods in your work.\n"
   ]
  },
  {
   "cell_type": "code",
   "execution_count": 61,
   "metadata": {
    "colab": {},
    "colab_type": "code",
    "id": "FoWTh2ekt8Wp"
   },
   "outputs": [
    {
     "name": "stdout",
     "output_type": "stream",
     "text": [
      "The difference between the average height in Males and Females was 12.77 cm\n",
      "The difference between the average weight in Males and Females was 16.67 kg\n",
      "The difference between the average body fat % in Males and Females was -8.30%\n",
      "The difference between the average grip force in Males and Females was 17.63\n"
     ]
    },
    {
     "data": {
      "text/plain": [
       "gender\n",
       "F    [Axes(0.125,0.53;0.775x0.35), Axes(0.125,0.11;...\n",
       "M    [Axes(0.125,0.53;0.775x0.35), Axes(0.125,0.11;...\n",
       "dtype: object"
      ]
     },
     "execution_count": 61,
     "metadata": {},
     "output_type": "execute_result"
    },
    {
     "data": {
      "image/png": "[encoded data removed]",
      "text/plain": [
       "<Figure size 640x480 with 2 Axes>"
      ]
     },
     "metadata": {},
     "output_type": "display_data"
    },
    {
     "data": {
      "image/png": "[encoded data removed]",
      "text/plain": [
       "<Figure size 640x480 with 2 Axes>"
      ]
     },
     "metadata": {},
     "output_type": "display_data"
    }
   ],
   "source": [
    "print(f\"The difference between the average height in Males and Females was {body_df[body_df.gender == 'M'].height_cm.mean() - body_df[body_df.gender == 'F'].height_cm.mean():.2f} cm\")\n",
    "print(f\"The difference between the average weight in Males and Females was {body_df[body_df.gender == 'M'].weight_kg.mean() - body_df[body_df.gender == 'F'].weight_kg.mean():.2f} kg\")\n",
    "print(f\"The difference between the average body fat % in Males and Females was {body_df[body_df.gender == 'M']['body fat_%'].mean() - body_df[body_df.gender == 'F']['body fat_%'].mean():.2f}%\")\n",
    "print(f\"The difference between the average grip force in Males and Females was {body_df[body_df.gender == 'M'].gripForce.mean() - body_df[body_df.gender == 'F'].gripForce.mean():.2f}\")\n",
    "\n",
    "body_df.groupby('gender').plot(kind='hist', y=['gripForce', 'body fat_%'], subplots=True, legend=True, sharex=True, sharey=True)\n"
   ]
  },
  {
   "cell_type": "markdown",
   "metadata": {
    "colab_type": "text",
    "id": "yN5zlizIuZa8"
   },
   "source": [
    "In the top graph we can see the female distributions and the second graph the males.\n",
    "\n",
    "\n",
    "Only the vizualizations for grip force and body fat % were created since height and weight have previously been generated.\n",
    "\n",
    "- The difference between the average height in Males and Females was 12.77 cm\n",
    "- The difference between the average weight in Males and Females was 16.67 kg\n",
    "- The difference between the average body fat % in Males and Females was -8.30%\n",
    "- The difference between the average grip force in Males and Females was 17.63"
   ]
  },
  {
   "cell_type": "markdown",
   "metadata": {
    "colab_type": "text",
    "id": "wGoiQk8XbqHw"
   },
   "source": [
    "### <span style=\"color:magenta\">Q9: 18 pt: </span>\n",
    "Take a look at gripForce (a measure of strength), \"sit and bend forward\" (a measure of flexibility), and \"sit-ups count\" (a measures of strength and endurance of the abdominals and hip-flexor muscles).  For each of those measures, calculate their z-scores (i.e. subtract the mean of the variable from each observation, then divide by the standard deviation of that score).  Create an overall fitness score by adding the z-scores for each of those variables together, then use `pd.qcut()` (not `pd.cut()`) to assign them to five categories ranging from lowest score to highest score.  \n",
    "\n",
    "a) Report the number of individuals in each of the resulting categories.\n",
    "\n",
    "b) Comment on the degree to which your categories correspond to the `class` column."
   ]
  },
  {
   "cell_type": "code",
   "execution_count": 11,
   "metadata": {
    "colab": {},
    "colab_type": "code",
    "id": "FoWTh2ekt8Wp"
   },
   "outputs": [
    {
     "name": "stdout",
     "output_type": "stream",
     "text": [
      "fitness_category\n",
      "A    2679\n",
      "C    2679\n",
      "E    2679\n",
      "B    2678\n",
      "D    2678\n",
      "Name: count, dtype: int64\n",
      "\n",
      "class\n",
      "C    3349\n",
      "D    3349\n",
      "A    3348\n",
      "B    3347\n",
      "Name: count, dtype: int64\n"
     ]
    }
   ],
   "source": [
    "body_df['gripForce z-score'] = (body_df.gripForce - body_df.gripForce.mean()) / body_df.gripForce.std()\n",
    "body_df['sit and bend forward_cm z-score'] = (body_df['sit and bend forward_cm'] - body_df['sit and bend forward_cm'].mean()) / body_df['sit and bend forward_cm'].std()\n",
    "body_df['sit-ups counts z-score'] = (body_df['sit-ups counts'] - body_df['sit-ups counts'].mean()) / body_df['sit-ups counts'].std()\n",
    "body_df['overall_fitness_score'] = body_df['gripForce z-score'] + body_df['sit and bend forward_cm z-score'] + body_df['sit-ups counts z-score']\n",
    "body_df['fitness_category'] = pd.qcut(body_df.overall_fitness_score, q=5, labels=['A', 'B', 'C', 'D', 'E'])\n",
    "print(body_df['fitness_category'].value_counts())\n",
    "print()\n",
    "print(body_df['class'].value_counts()) "
   ]
  },
  {
   "cell_type": "markdown",
   "metadata": {},
   "source": [
    "#### Under the new fitness categories created we would see the following number of people under each catagory:\n",
    "- A:    2679\n",
    "- C:    2679\n",
    "- E:    2679\n",
    "- B:    2678\n",
    "- D:    2678\n",
    "\n",
    "Since there are now 5 categories instead of 4 there are slightly less people in each category compared to those in the original dataset\n",
    "\n",
    "Since the categories are assigned based on quartiles the distribution of people betwen each of the categories matches that of the original dataset, with nearly similar numbers within each catagory\n",
    "\n",
    "It is hard to assess which method of classification is better without looking at further measures"
   ]
  },
  {
   "cell_type": "markdown",
   "metadata": {
    "colab_type": "text",
    "id": "zKkwrNfbJ9zN"
   },
   "source": [
    "### IMPORTANT: Ensure your complete notebook runs without errors from top to bottom (check by using \"Run All\").\n",
    "\n",
    "## Please submit your completed notebook in .IPYNB and .HTML formats via Canvas"
   ]
  },
  {
   "cell_type": "markdown",
   "metadata": {},
   "source": []
  }
 ],
 "metadata": {
  "colab": {
   "collapsed_sections": [],
   "name": "SI 618 FA 2018 Homework 1.ipynb",
   "provenance": [],
   "version": "0.3.2"
  },
  "kernelspec": {
   "display_name": "Python 3 (ipykernel)",
   "language": "python",
   "name": "python3"
  },
  "language_info": {
   "codemirror_mode": {
    "name": "ipython",
    "version": 3
   },
   "file_extension": ".py",
   "mimetype": "text/x-python",
   "name": "python",
   "nbconvert_exporter": "python",
   "pygments_lexer": "ipython3",
   "version": "3.11.4"
  }
 },
 "nbformat": 4,
 "nbformat_minor": 4
}
