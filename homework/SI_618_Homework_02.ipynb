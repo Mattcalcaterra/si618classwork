{
 "cells": [
  {
   "cell_type": "markdown",
   "metadata": {
    "tags": []
   },
   "source": [
    "# SI 618 - Homework #2: More Data Manipulation"
   ]
  },
  {
   "cell_type": "markdown",
   "metadata": {},
   "source": [
    "### The total score for this assignment will be 100 points, consisting of:\n",
    "- 10 pt: Overall quality of spelling, grammar, punctuation, etc. of written sentences. ([Guide](https://drive.google.com/file/d/1L0P7xJwjUGBvyb49mL3dw1Bt7hzRTiTl/view ))\n",
    "- 10 pt: Codes are written in [PEP 8](https://www.python.org/dev/peps/pep-0008/) style.\n",
    "- 80 pt: Homework questions. \n",
    "\n",
    "Version 2023.09.13.1.CT"
   ]
  },
  {
   "cell_type": "markdown",
   "metadata": {},
   "source": [
    "# Background\n",
    "You're a Data Science Consultant for an eCommerce retail company, they've asked you to analyze their sales database. Unfortunately, they did nothing to prepare or clean their data, only exporting their 3 database tables as JSON files. It's up to you to clean their data, analyze it and answer questions to help drive business value!\n",
    "\n",
    "### The below files have been provided via the URLs shown:\n",
    "- invoices.json https://github.com/umsi-data-science/data/raw/main/invoices.json\n",
    "- items.json https://github.com/umsi-data-science/data/raw/main/items.json\n",
    "- purchases.json https://github.com/umsi-data-science/data/raw/main/purchases.json\n",
    "\n",
    "### They provided this data dictionary:\n",
    "\n",
    "**InvoiceNo:** Invoice number. Nominal, a 6-digit integral number uniquely assigned to each transaction.  \n",
    "**StockCode:** Product (item) code. Nominal, a 5-digit integral number uniquely assigned to each distinct product.  \n",
    "**Description:** Product (item) name. Nominal.   \n",
    "**Quantity:** The quantities of each product (item) per transaction. Numeric.  \n",
    "**InvoiceDate:** Invoice Date and time. Numeric, the day and time when each transaction was generated.  \n",
    "**UnitPrice:** Unit price. Numeric, Product price per unit in sterling.  \n",
    "**CustomerID:** Customer number. Nominal, a 5-digit integral number uniquely assigned to each customer.  \n",
    "**Country:** Country name. Nominal, the name of the country where each customer resides.  \n",
    "\n",
    "### A few notes from the company:\n",
    "* If the InvoiceNo starts with the letter 'c', it indicates a cancellation. When conducting this analysis we only want to analyze invoices that were shipped. (ie. not canceled)\n",
    "* The datasets should be able to be merged, each row in the invoice table corresponds to multiple rows in the purchases table.\n",
    "* To find out the description or unit cost of an item in the purchase table, the StockCode should be used to match up the product in the items table. \n",
    "* They mentioned that they've been having a difficult time lately joining the items and purchases table, maybe there's something wrong with the columns?"
   ]
  },
  {
   "cell_type": "markdown",
   "metadata": {},
   "source": [
    "# Answer the questions below.\n",
    "- write your Python code that can answer the following questions \n",
    "- explain **ALL** your answers in plain English. \n",
    "- you can use as many code and markdown cells as you need for each question (i.e. don't limit yourself to just one of each if you feel you need more)."
   ]
  },
  {
   "cell_type": "code",
   "execution_count": 1,
   "metadata": {},
   "outputs": [],
   "source": [
    "MY_UNIQNAME = 'mattcalc'  # replace this with your uniqname"
   ]
  },
  {
   "cell_type": "markdown",
   "metadata": {},
   "source": [
    "* Copilot was used to help solve this problem set"
   ]
  },
  {
   "cell_type": "markdown",
   "metadata": {},
   "source": [
    "### <span style=\"color:magenta\"> Q1. [5 points] Describe the dataset. </span>\n",
    "1. Load the data. \n",
    "1. How many total invoices have been placed?\n",
    "1. How many unique customers are there?\n",
    "1. What is the total number of unique items?\n",
    "1. Are there any columns with null values?\n",
    "1. Thinking ahead, how do you think you would join the different tables? Please share 2-3 sentences about your approach."
   ]
  },
  {
   "cell_type": "code",
   "execution_count": 2,
   "metadata": {},
   "outputs": [],
   "source": [
    "import pandas as pd\n",
    "import numpy as np\n",
    "import matplotlib.pyplot as plt\n"
   ]
  },
  {
   "cell_type": "code",
   "execution_count": 3,
   "metadata": {},
   "outputs": [],
   "source": [
    "# Read in the data\n",
    "\n",
    "raw_invoices = pd.read_json('https://github.com/umsi-data-science/data/raw/main/invoices.json')\n",
    "items = pd.read_json('https://github.com/umsi-data-science/data/raw/main/items.json')\n",
    "products = pd.read_json('https://github.com/umsi-data-science/data/raw/main/purchases.json')"
   ]
  },
  {
   "cell_type": "code",
   "execution_count": 4,
   "metadata": {},
   "outputs": [
    {
     "name": "stdout",
     "output_type": "stream",
     "text": [
      "22064\n"
     ]
    },
    {
     "data": {
      "text/html": [
       "<div>\n",
       "<style scoped>\n",
       "    .dataframe tbody tr th:only-of-type {\n",
       "        vertical-align: middle;\n",
       "    }\n",
       "\n",
       "    .dataframe tbody tr th {\n",
       "        vertical-align: top;\n",
       "    }\n",
       "\n",
       "    .dataframe thead th {\n",
       "        text-align: right;\n",
       "    }\n",
       "</style>\n",
       "<table border=\"1\" class=\"dataframe\">\n",
       "  <thead>\n",
       "    <tr style=\"text-align: right;\">\n",
       "      <th></th>\n",
       "      <th>InvoiceNo</th>\n",
       "      <th>InvoiceDate</th>\n",
       "      <th>CustomerID</th>\n",
       "      <th>Country</th>\n",
       "    </tr>\n",
       "  </thead>\n",
       "  <tbody>\n",
       "    <tr>\n",
       "      <th>0</th>\n",
       "      <td>536365</td>\n",
       "      <td>12/1/10 8:26</td>\n",
       "      <td>17850.0</td>\n",
       "      <td>United Kingdom</td>\n",
       "    </tr>\n",
       "    <tr>\n",
       "      <th>1</th>\n",
       "      <td>536366</td>\n",
       "      <td>12/1/10 8:28</td>\n",
       "      <td>17850.0</td>\n",
       "      <td>United Kingdom</td>\n",
       "    </tr>\n",
       "    <tr>\n",
       "      <th>2</th>\n",
       "      <td>536367</td>\n",
       "      <td>12/1/10 8:34</td>\n",
       "      <td>13047.0</td>\n",
       "      <td>United Kingdom</td>\n",
       "    </tr>\n",
       "    <tr>\n",
       "      <th>3</th>\n",
       "      <td>536368</td>\n",
       "      <td>12/1/10 8:34</td>\n",
       "      <td>13047.0</td>\n",
       "      <td>United Kingdom</td>\n",
       "    </tr>\n",
       "    <tr>\n",
       "      <th>4</th>\n",
       "      <td>536369</td>\n",
       "      <td>12/1/10 8:35</td>\n",
       "      <td>13047.0</td>\n",
       "      <td>United Kingdom</td>\n",
       "    </tr>\n",
       "  </tbody>\n",
       "</table>\n",
       "</div>"
      ],
      "text/plain": [
       "  InvoiceNo   InvoiceDate  CustomerID         Country\n",
       "0    536365  12/1/10 8:26     17850.0  United Kingdom\n",
       "1    536366  12/1/10 8:28     17850.0  United Kingdom\n",
       "2    536367  12/1/10 8:34     13047.0  United Kingdom\n",
       "3    536368  12/1/10 8:34     13047.0  United Kingdom\n",
       "4    536369  12/1/10 8:35     13047.0  United Kingdom"
      ]
     },
     "execution_count": 4,
     "metadata": {},
     "output_type": "execute_result"
    }
   ],
   "source": [
    "invoices = raw_invoices[raw_invoices['InvoiceNo'].str.startswith('C') != True]\n",
    "\n",
    "print(invoices['InvoiceNo'].drop_duplicates().count())\n",
    "invoices.head()"
   ]
  },
  {
   "cell_type": "code",
   "execution_count": 5,
   "metadata": {},
   "outputs": [
    {
     "name": "stdout",
     "output_type": "stream",
     "text": [
      "4070\n"
     ]
    },
    {
     "data": {
      "text/html": [
       "<div>\n",
       "<style scoped>\n",
       "    .dataframe tbody tr th:only-of-type {\n",
       "        vertical-align: middle;\n",
       "    }\n",
       "\n",
       "    .dataframe tbody tr th {\n",
       "        vertical-align: top;\n",
       "    }\n",
       "\n",
       "    .dataframe thead th {\n",
       "        text-align: right;\n",
       "    }\n",
       "</style>\n",
       "<table border=\"1\" class=\"dataframe\">\n",
       "  <thead>\n",
       "    <tr style=\"text-align: right;\">\n",
       "      <th></th>\n",
       "      <th>Description</th>\n",
       "      <th>UnitPrice</th>\n",
       "      <th>StockCodeSC</th>\n",
       "    </tr>\n",
       "  </thead>\n",
       "  <tbody>\n",
       "    <tr>\n",
       "      <th>0</th>\n",
       "      <td>WHITE HANGING HEART T-LIGHT HOLDER</td>\n",
       "      <td>2.55</td>\n",
       "      <td>SC85123A</td>\n",
       "    </tr>\n",
       "    <tr>\n",
       "      <th>1</th>\n",
       "      <td>WHITE METAL LANTERN</td>\n",
       "      <td>3.39</td>\n",
       "      <td>SC71053</td>\n",
       "    </tr>\n",
       "    <tr>\n",
       "      <th>2</th>\n",
       "      <td>CREAM CUPID HEARTS COAT HANGER</td>\n",
       "      <td>2.75</td>\n",
       "      <td>SC84406B</td>\n",
       "    </tr>\n",
       "    <tr>\n",
       "      <th>3</th>\n",
       "      <td>KNITTED UNION FLAG HOT WATER BOTTLE</td>\n",
       "      <td>3.39</td>\n",
       "      <td>SC84029G</td>\n",
       "    </tr>\n",
       "    <tr>\n",
       "      <th>4</th>\n",
       "      <td>RED WOOLLY HOTTIE WHITE HEART.</td>\n",
       "      <td>3.39</td>\n",
       "      <td>SC84029E</td>\n",
       "    </tr>\n",
       "  </tbody>\n",
       "</table>\n",
       "</div>"
      ],
      "text/plain": [
       "                           Description  UnitPrice StockCodeSC\n",
       "0   WHITE HANGING HEART T-LIGHT HOLDER       2.55    SC85123A\n",
       "1                  WHITE METAL LANTERN       3.39     SC71053\n",
       "2       CREAM CUPID HEARTS COAT HANGER       2.75    SC84406B\n",
       "3  KNITTED UNION FLAG HOT WATER BOTTLE       3.39    SC84029G\n",
       "4       RED WOOLLY HOTTIE WHITE HEART.       3.39    SC84029E"
      ]
     },
     "execution_count": 5,
     "metadata": {},
     "output_type": "execute_result"
    }
   ],
   "source": [
    "# Adding SC to the StockCode column in items to align with StockCodeSC in invoices\n",
    "items['StockCodeSC'] = 'SC' + items['StockCode']\n",
    "items.drop('StockCode', axis=1, inplace=True)\n",
    "print(items.shape[0])\n",
    "items.head()"
   ]
  },
  {
   "cell_type": "code",
   "execution_count": 6,
   "metadata": {},
   "outputs": [
    {
     "name": "stdout",
     "output_type": "stream",
     "text": [
      "541909\n"
     ]
    },
    {
     "data": {
      "text/html": [
       "<div>\n",
       "<style scoped>\n",
       "    .dataframe tbody tr th:only-of-type {\n",
       "        vertical-align: middle;\n",
       "    }\n",
       "\n",
       "    .dataframe tbody tr th {\n",
       "        vertical-align: top;\n",
       "    }\n",
       "\n",
       "    .dataframe thead th {\n",
       "        text-align: right;\n",
       "    }\n",
       "</style>\n",
       "<table border=\"1\" class=\"dataframe\">\n",
       "  <thead>\n",
       "    <tr style=\"text-align: right;\">\n",
       "      <th></th>\n",
       "      <th>InvoiceNo</th>\n",
       "      <th>StockCodeSC</th>\n",
       "      <th>Quantity</th>\n",
       "    </tr>\n",
       "  </thead>\n",
       "  <tbody>\n",
       "    <tr>\n",
       "      <th>0</th>\n",
       "      <td>536365</td>\n",
       "      <td>SC85123A</td>\n",
       "      <td>6</td>\n",
       "    </tr>\n",
       "    <tr>\n",
       "      <th>1</th>\n",
       "      <td>536365</td>\n",
       "      <td>SC71053</td>\n",
       "      <td>6</td>\n",
       "    </tr>\n",
       "    <tr>\n",
       "      <th>2</th>\n",
       "      <td>536365</td>\n",
       "      <td>SC84406B</td>\n",
       "      <td>8</td>\n",
       "    </tr>\n",
       "    <tr>\n",
       "      <th>3</th>\n",
       "      <td>536365</td>\n",
       "      <td>SC84029G</td>\n",
       "      <td>6</td>\n",
       "    </tr>\n",
       "    <tr>\n",
       "      <th>4</th>\n",
       "      <td>536365</td>\n",
       "      <td>SC84029E</td>\n",
       "      <td>6</td>\n",
       "    </tr>\n",
       "  </tbody>\n",
       "</table>\n",
       "</div>"
      ],
      "text/plain": [
       "  InvoiceNo StockCodeSC  Quantity\n",
       "0    536365    SC85123A         6\n",
       "1    536365     SC71053         6\n",
       "2    536365    SC84406B         8\n",
       "3    536365    SC84029G         6\n",
       "4    536365    SC84029E         6"
      ]
     },
     "execution_count": 6,
     "metadata": {},
     "output_type": "execute_result"
    }
   ],
   "source": [
    "print(products.shape[0])\n",
    "products.head()"
   ]
  },
  {
   "cell_type": "code",
   "execution_count": 7,
   "metadata": {},
   "outputs": [
    {
     "name": "stdout",
     "output_type": "stream",
     "text": [
      "535965\n"
     ]
    },
    {
     "data": {
      "text/html": [
       "<div>\n",
       "<style scoped>\n",
       "    .dataframe tbody tr th:only-of-type {\n",
       "        vertical-align: middle;\n",
       "    }\n",
       "\n",
       "    .dataframe tbody tr th {\n",
       "        vertical-align: top;\n",
       "    }\n",
       "\n",
       "    .dataframe thead th {\n",
       "        text-align: right;\n",
       "    }\n",
       "</style>\n",
       "<table border=\"1\" class=\"dataframe\">\n",
       "  <thead>\n",
       "    <tr style=\"text-align: right;\">\n",
       "      <th></th>\n",
       "      <th>InvoiceNo</th>\n",
       "      <th>InvoiceDate</th>\n",
       "      <th>CustomerID</th>\n",
       "      <th>Country</th>\n",
       "      <th>StockCodeSC</th>\n",
       "      <th>Quantity</th>\n",
       "      <th>Description</th>\n",
       "      <th>UnitPrice</th>\n",
       "    </tr>\n",
       "  </thead>\n",
       "  <tbody>\n",
       "    <tr>\n",
       "      <th>0</th>\n",
       "      <td>536365</td>\n",
       "      <td>12/1/10 8:26</td>\n",
       "      <td>17850.0</td>\n",
       "      <td>United Kingdom</td>\n",
       "      <td>SC85123A</td>\n",
       "      <td>6</td>\n",
       "      <td>WHITE HANGING HEART T-LIGHT HOLDER</td>\n",
       "      <td>2.55</td>\n",
       "    </tr>\n",
       "    <tr>\n",
       "      <th>1</th>\n",
       "      <td>536365</td>\n",
       "      <td>12/1/10 8:26</td>\n",
       "      <td>17850.0</td>\n",
       "      <td>United Kingdom</td>\n",
       "      <td>SC71053</td>\n",
       "      <td>6</td>\n",
       "      <td>WHITE METAL LANTERN</td>\n",
       "      <td>3.39</td>\n",
       "    </tr>\n",
       "    <tr>\n",
       "      <th>2</th>\n",
       "      <td>536365</td>\n",
       "      <td>12/1/10 8:26</td>\n",
       "      <td>17850.0</td>\n",
       "      <td>United Kingdom</td>\n",
       "      <td>SC84406B</td>\n",
       "      <td>8</td>\n",
       "      <td>CREAM CUPID HEARTS COAT HANGER</td>\n",
       "      <td>2.75</td>\n",
       "    </tr>\n",
       "    <tr>\n",
       "      <th>3</th>\n",
       "      <td>536365</td>\n",
       "      <td>12/1/10 8:26</td>\n",
       "      <td>17850.0</td>\n",
       "      <td>United Kingdom</td>\n",
       "      <td>SC84029G</td>\n",
       "      <td>6</td>\n",
       "      <td>KNITTED UNION FLAG HOT WATER BOTTLE</td>\n",
       "      <td>3.39</td>\n",
       "    </tr>\n",
       "    <tr>\n",
       "      <th>4</th>\n",
       "      <td>536365</td>\n",
       "      <td>12/1/10 8:26</td>\n",
       "      <td>17850.0</td>\n",
       "      <td>United Kingdom</td>\n",
       "      <td>SC84029E</td>\n",
       "      <td>6</td>\n",
       "      <td>RED WOOLLY HOTTIE WHITE HEART.</td>\n",
       "      <td>3.39</td>\n",
       "    </tr>\n",
       "  </tbody>\n",
       "</table>\n",
       "</div>"
      ],
      "text/plain": [
       "  InvoiceNo   InvoiceDate  CustomerID         Country StockCodeSC  Quantity  \\\n",
       "0    536365  12/1/10 8:26     17850.0  United Kingdom    SC85123A         6   \n",
       "1    536365  12/1/10 8:26     17850.0  United Kingdom     SC71053         6   \n",
       "2    536365  12/1/10 8:26     17850.0  United Kingdom    SC84406B         8   \n",
       "3    536365  12/1/10 8:26     17850.0  United Kingdom    SC84029G         6   \n",
       "4    536365  12/1/10 8:26     17850.0  United Kingdom    SC84029E         6   \n",
       "\n",
       "                           Description  UnitPrice  \n",
       "0   WHITE HANGING HEART T-LIGHT HOLDER       2.55  \n",
       "1                  WHITE METAL LANTERN       3.39  \n",
       "2       CREAM CUPID HEARTS COAT HANGER       2.75  \n",
       "3  KNITTED UNION FLAG HOT WATER BOTTLE       3.39  \n",
       "4       RED WOOLLY HOTTIE WHITE HEART.       3.39  "
      ]
     },
     "execution_count": 7,
     "metadata": {},
     "output_type": "execute_result"
    }
   ],
   "source": [
    "# Merge the three datasets together\n",
    "products_items = products.merge(items, left_on='StockCodeSC', right_on='StockCodeSC')\n",
    "df = invoices.merge(products_items, left_on='InvoiceNo', right_on='InvoiceNo')\n",
    "print(df.shape[0])\n",
    "df.head()\n"
   ]
  },
  {
   "cell_type": "code",
   "execution_count": 8,
   "metadata": {},
   "outputs": [
    {
     "data": {
      "text/html": [
       "<div>\n",
       "<style scoped>\n",
       "    .dataframe tbody tr th:only-of-type {\n",
       "        vertical-align: middle;\n",
       "    }\n",
       "\n",
       "    .dataframe tbody tr th {\n",
       "        vertical-align: top;\n",
       "    }\n",
       "\n",
       "    .dataframe thead th {\n",
       "        text-align: right;\n",
       "    }\n",
       "</style>\n",
       "<table border=\"1\" class=\"dataframe\">\n",
       "  <thead>\n",
       "    <tr style=\"text-align: right;\">\n",
       "      <th></th>\n",
       "      <th>InvoiceNo</th>\n",
       "      <th>InvoiceDate</th>\n",
       "      <th>CustomerID</th>\n",
       "      <th>Country</th>\n",
       "      <th>StockCodeSC</th>\n",
       "      <th>Quantity</th>\n",
       "      <th>Description</th>\n",
       "      <th>UnitPrice</th>\n",
       "    </tr>\n",
       "  </thead>\n",
       "  <tbody>\n",
       "    <tr>\n",
       "      <th>613</th>\n",
       "      <td>536414</td>\n",
       "      <td>12/1/10 11:52</td>\n",
       "      <td>NaN</td>\n",
       "      <td>United Kingdom</td>\n",
       "      <td>SC22139</td>\n",
       "      <td>56</td>\n",
       "      <td>RETROSPOT TEA SET CERAMIC 11 PC</td>\n",
       "      <td>4.25</td>\n",
       "    </tr>\n",
       "    <tr>\n",
       "      <th>1431</th>\n",
       "      <td>536544</td>\n",
       "      <td>12/1/10 14:32</td>\n",
       "      <td>NaN</td>\n",
       "      <td>United Kingdom</td>\n",
       "      <td>SC85123A</td>\n",
       "      <td>4</td>\n",
       "      <td>WHITE HANGING HEART T-LIGHT HOLDER</td>\n",
       "      <td>2.55</td>\n",
       "    </tr>\n",
       "    <tr>\n",
       "      <th>1432</th>\n",
       "      <td>536544</td>\n",
       "      <td>12/1/10 14:32</td>\n",
       "      <td>NaN</td>\n",
       "      <td>United Kingdom</td>\n",
       "      <td>SC71053</td>\n",
       "      <td>1</td>\n",
       "      <td>WHITE METAL LANTERN</td>\n",
       "      <td>3.39</td>\n",
       "    </tr>\n",
       "    <tr>\n",
       "      <th>1433</th>\n",
       "      <td>536544</td>\n",
       "      <td>12/1/10 14:32</td>\n",
       "      <td>NaN</td>\n",
       "      <td>United Kingdom</td>\n",
       "      <td>SC84029G</td>\n",
       "      <td>1</td>\n",
       "      <td>KNITTED UNION FLAG HOT WATER BOTTLE</td>\n",
       "      <td>3.39</td>\n",
       "    </tr>\n",
       "    <tr>\n",
       "      <th>1434</th>\n",
       "      <td>536544</td>\n",
       "      <td>12/1/10 14:32</td>\n",
       "      <td>NaN</td>\n",
       "      <td>United Kingdom</td>\n",
       "      <td>SC84029E</td>\n",
       "      <td>1</td>\n",
       "      <td>RED WOOLLY HOTTIE WHITE HEART.</td>\n",
       "      <td>3.39</td>\n",
       "    </tr>\n",
       "  </tbody>\n",
       "</table>\n",
       "</div>"
      ],
      "text/plain": [
       "     InvoiceNo    InvoiceDate  CustomerID         Country StockCodeSC  \\\n",
       "613     536414  12/1/10 11:52         NaN  United Kingdom     SC22139   \n",
       "1431    536544  12/1/10 14:32         NaN  United Kingdom    SC85123A   \n",
       "1432    536544  12/1/10 14:32         NaN  United Kingdom     SC71053   \n",
       "1433    536544  12/1/10 14:32         NaN  United Kingdom    SC84029G   \n",
       "1434    536544  12/1/10 14:32         NaN  United Kingdom    SC84029E   \n",
       "\n",
       "      Quantity                          Description  UnitPrice  \n",
       "613         56     RETROSPOT TEA SET CERAMIC 11 PC        4.25  \n",
       "1431         4   WHITE HANGING HEART T-LIGHT HOLDER       2.55  \n",
       "1432         1                  WHITE METAL LANTERN       3.39  \n",
       "1433         1  KNITTED UNION FLAG HOT WATER BOTTLE       3.39  \n",
       "1434         1       RED WOOLLY HOTTIE WHITE HEART.       3.39  "
      ]
     },
     "execution_count": 8,
     "metadata": {},
     "output_type": "execute_result"
    }
   ],
   "source": [
    "df.InvoiceNo.value_counts()\n",
    "df.CustomerID.value_counts()\n",
    "df.StockCodeSC.value_counts()\n",
    "mask = df.isnull().any(axis=1)\n",
    "null_values = df[mask]\n",
    "null_values.head()"
   ]
  },
  {
   "cell_type": "markdown",
   "metadata": {},
   "source": [
    "*Github Copilot was used to help with this assignment*\n",
    "\n",
    "After loading the dataset invoices which were cancelled (indicated with a c in the InvoiceNo were removed from the dataset) and duplicates were removed\n",
    "\n",
    "---\n",
    "1. Data set is loaded\n",
    "1. 22064 different invoice numbers after removing canceled invoices and duplicants\n",
    "2. 4340 different customer IDs after removing duplicates\n",
    "3. 4070 different stock codes\n",
    "4. 1 column `CustomerID` column has nulls, no other column shows nulls\n",
    "1. The dataset have already been merge into dataframe `df`. The process started by making a new column in the items dataframe called `StockCodeSC` which added 'SC' to the `StockCode` column. This was done to allign the formatting with the `StockCodeSC` column in products. The original `StockCode` column was then dropped from the dataframe. Products and items were then merged on `StockCodeSC` and the resulting dataframe was merged with invoices on `InvoiceNo`. The resulting dataframe was saved to `df` and used for the rest of the assignment.\n"
   ]
  },
  {
   "cell_type": "markdown",
   "metadata": {},
   "source": [
    "### <span style=\"color:magenta\"> Q2. [10 points] Invoice Analysis </span>\n",
    "1. For each customer calculate how many total invoices they have placed. List the top 10 customers who have placed an invoice in descending order.\n",
    "2. Perform a similar calculation but instead of the number of invoices, calculate the total quantity of items ordered for each customer. List the top 10 customers in descending order.\n",
    "3. Compare the top 10 customers, does it appear that the more invoices a customer have, the greater the total quantity of items? Explain your reasoning.\n",
    "\n",
    "_Hint: For 2.2, you may need to join two datasets together to answer the question._"
   ]
  },
  {
   "cell_type": "code",
   "execution_count": 9,
   "metadata": {},
   "outputs": [
    {
     "data": {
      "text/plain": [
       "CustomerID\n",
       "12748.0    211\n",
       "14911.0    202\n",
       "17841.0    124\n",
       "13089.0     97\n",
       "14606.0     95\n",
       "15311.0     91\n",
       "12971.0     86\n",
       "14646.0     74\n",
       "16029.0     63\n",
       "13408.0     62\n",
       "Name: count, dtype: int64"
      ]
     },
     "execution_count": 9,
     "metadata": {},
     "output_type": "execute_result"
    }
   ],
   "source": [
    "# Calculate the total number of invoices for each customer\n",
    "invoices.CustomerID.value_counts().head(10)\n"
   ]
  },
  {
   "cell_type": "code",
   "execution_count": 10,
   "metadata": {},
   "outputs": [
    {
     "data": {
      "text/plain": [
       "CustomerID\n",
       "14646.0    197491\n",
       "14911.0     81009\n",
       "16446.0     80997\n",
       "12415.0     77670\n",
       "12346.0     74215\n",
       "17450.0     69993\n",
       "17511.0     67423\n",
       "18102.0     64124\n",
       "13694.0     63312\n",
       "14298.0     58343\n",
       "Name: Quantity, dtype: int64"
      ]
     },
     "execution_count": 10,
     "metadata": {},
     "output_type": "execute_result"
    }
   ],
   "source": [
    "# Calculate the total number of items purchased for each customer\n",
    "df.groupby('CustomerID')['Quantity'].sum().sort_values(ascending=False).head(10)\n"
   ]
  },
  {
   "cell_type": "markdown",
   "metadata": {},
   "source": [
    "### The top ten customers by number of invoices place by CustomerID are:\n",
    "- **CustomerID**: ***# Invoices***\n",
    "- 12748.0:    *211*\n",
    "- 14911.0:   *202*\n",
    "- 17841.0:    *124*\n",
    "- 13089.0:     *97*\n",
    "- 14606.0:     *95*\n",
    "- 15311.0:     *91*\n",
    "- 12971.0:     *86*\n",
    "- 14646.0:     *74*\n",
    "- 16029.0:     *63*\n",
    "- 13408.0:    *62*\n",
    "\n",
    "### The top ten customers by quanitity of items ordered is as follows:\n",
    "\n",
    "- **CustomerID**: ***Quantity of Items***\n",
    "- 14646.0:    *197491*\n",
    "- 14911.0:     *81009*\n",
    "- 16446.0:     *80997*\n",
    "- 12415.0:     *77670*\n",
    "- 12346.0:     *74215*\n",
    "- 17450.0:     *69993*\n",
    "- 17511.0:     *67423*\n",
    "- 18102.0:     *64124*\n",
    "- 13694.0:     *63312*\n",
    "- 14298.0:     *58343*\n",
    "\n",
    "\n",
    "\n",
    "It does not appear that there is any correlation between the number of invoices a customer has and the quanity of items ordered. \n",
    "When we compare the top ten invoice customers to the top ten quanity customers we only see an overlap of 1 customer (ID = 14911)\n",
    "if there were a correlation between the two we would expect to see a greater overlap in the two top tens."
   ]
  },
  {
   "cell_type": "markdown",
   "metadata": {},
   "source": [
    "### <span style=\"color:magenta\"> Q3. [10 points] Item Analysis </span>\n",
    "1. What is the average item-unit price? \n",
    "1. What % of items are under $25?\n",
    "1. Generate a histogram of the unit prices. Select reasonable min/max values for the x-axis. Why did you pick those values? What do you notice about the histogram? "
   ]
  },
  {
   "cell_type": "code",
   "execution_count": 11,
   "metadata": {},
   "outputs": [
    {
     "name": "stdout",
     "output_type": "stream",
     "text": [
      "Average Unit Price: 4.08\n"
     ]
    }
   ],
   "source": [
    "# Find the average item-unit price\n",
    "print(f\"Average Unit Price: {df['UnitPrice'].mean():.2f}\")"
   ]
  },
  {
   "cell_type": "code",
   "execution_count": 12,
   "metadata": {},
   "outputs": [
    {
     "name": "stdout",
     "output_type": "stream",
     "text": [
      "% of Items under $25: 99.47%\n"
     ]
    }
   ],
   "source": [
    "# Percent of Items under $25\n",
    "items_under_25 = df[df['UnitPrice'] < 25]\n",
    "print(f\"% of Items under $25: {(items_under_25.shape[0] / df['UnitPrice'].shape[0]) * 100 :.2f}%\")"
   ]
  },
  {
   "cell_type": "code",
   "execution_count": 13,
   "metadata": {},
   "outputs": [
    {
     "data": {
      "text/plain": [
       "<Axes: >"
      ]
     },
     "execution_count": 13,
     "metadata": {},
     "output_type": "execute_result"
    },
    {
     "data": {
      "image/png": "[encoded data removed]",
      "text/plain": [
       "<Figure size 640x480 with 1 Axes>"
      ]
     },
     "metadata": {},
     "output_type": "display_data"
    }
   ],
   "source": [
    "\n",
    "# Histogram of the unit price\n",
    "df['UnitPrice'].hist( bins=50, range=(0,25))"
   ]
  },
  {
   "cell_type": "markdown",
   "metadata": {},
   "source": [
    "### Average item-unit price\n",
    "\n",
    "The Average item-unit prices is $4.08\n",
    "\n",
    "### Percentage of item which cost less than $25\n",
    "\n",
    "99.47% of items cost less than $25\n",
    "\n",
    "### Histogram\n",
    "\n",
    "The minimum and maximum values for the x-axis were set to (0,25)\n",
    "\n",
    "The minimum was set at 0 as no item should cost less than $0\n",
    "\n",
    "The maximum was set at $25 since it was previously found that 99.47% of items cost less than $25, there for using an x-axis maximum of 25 would include most values while being small enough to show detail in the plot\n",
    "\n",
    "The historgram itself shows a signifigant right skew with most of the values falling in the $0-5 range.\n",
    "\n",
    "It is also interesting to note that the greatest number of items fell around the $2 mark"
   ]
  },
  {
   "cell_type": "markdown",
   "metadata": {},
   "source": [
    "### <span style=\"color:magenta\"> Q4. [25 points] Order Trends </span>\n",
    "1. What are the top 10 most ordered items? Describe them. Do you see any trends?  \n",
    "1. What are the top 5 invoices that generated the most revenue? (Revenue is calculated by \"marking up\" the unit price by 25%.) \n",
    "1. Do the top 5 invoices contain any of the top 10 most ordered items?\n",
    "\n",
    "_Hint: When calculating the revenue we suggest adding a new column on the dataframe._"
   ]
  },
  {
   "cell_type": "code",
   "execution_count": 14,
   "metadata": {},
   "outputs": [
    {
     "data": {
      "text/plain": [
       "StockCodeSC  Description                       \n",
       "SC23843      PAPER CRAFT , LITTLE BIRDIE           80995\n",
       "SC23166      MEDIUM CERAMIC TOP STORAGE JAR        78033\n",
       "SC22197      SMALL POPCORN HOLDER                  57767\n",
       "SC84077      WORLD WAR 2 GLIDERS ASSTD DESIGNS     55100\n",
       "SC85099B     JUMBO BAG RED RETROSPOT               48877\n",
       "SC85123A     WHITE HANGING HEART T-LIGHT HOLDER    41534\n",
       "SC21212      PACK OF 72 RETROSPOT CAKE CASES       36502\n",
       "SC84879      ASSORTED COLOUR BIRD ORNAMENT         36353\n",
       "SC23084      RABBIT NIGHT LIGHT                    30771\n",
       "SC22492      MINI PAINT SET VINTAGE                26668\n",
       "Name: Quantity, dtype: int64"
      ]
     },
     "execution_count": 14,
     "metadata": {},
     "output_type": "execute_result"
    }
   ],
   "source": [
    "# Top 10 most ordered items\n",
    "# Displays StockCodeSC, Description, and Quantity\n",
    "top_ten_items = df.groupby(['StockCodeSC', 'Description'])['Quantity'].sum().sort_values(ascending=False).head(10)\n",
    "top_ten_items"
   ]
  },
  {
   "cell_type": "code",
   "execution_count": 15,
   "metadata": {},
   "outputs": [
    {
     "data": {
      "text/plain": [
       "InvoiceNo  Description                   \n",
       "547966     DOTCOM POSTAGE                    712212.5\n",
       "581483     PAPER CRAFT , LITTLE BIRDIE       210587.0\n",
       "541431     MEDIUM CERAMIC TOP STORAGE JAR     96479.5\n",
       "540699     POSTAGE                            22500.0\n",
       "554857     POSTAGE                            18000.0\n",
       "Name: Revenue, dtype: float64"
      ]
     },
     "execution_count": 15,
     "metadata": {},
     "output_type": "execute_result"
    }
   ],
   "source": [
    "# Revenue generated by invoices\n",
    "df['Revenue'] = df['Quantity'] * df['UnitPrice'] * 1.25\n",
    "\n",
    "top_10_invoices = df.groupby(['InvoiceNo', 'Description']).Revenue.sum().sort_values(ascending=False).head(5)\n",
    "top_10_invoices"
   ]
  },
  {
   "cell_type": "markdown",
   "metadata": {},
   "source": [
    "### Top 10 ordered items\n",
    "\n",
    "The top 10 most ordered items with descriptions and quantities can be seen above.\n",
    "\n",
    "There does not appear to be any trends in the most ordered items as there is a variety in their descriptions\n",
    "\n",
    "### Top 5 revenue invoices\n",
    "\n",
    "The Revenue of invoices was calculated by adding a 25% markup to the product of UnitPrice and Quantity\n",
    "\n",
    "This was added as `Revenue` column in the dataframe\n",
    "\n",
    "### Overlap in top revenue and ordered items\n",
    "\n",
    "Two of the top 5 revenue producing invoices overlapped with the top 10 most ordered items.\n",
    "\n",
    "These invoices ordered the *Paper craft, little birdie* and the *Medium ceramic top storage jar*\n",
    "\n",
    "The other three invoices in the top 5 were for postage\n",
    "\n",
    "\n",
    "\n"
   ]
  },
  {
   "cell_type": "markdown",
   "metadata": {},
   "source": [
    "### <span style=\"color:magenta\"> Q5. [30 points] Customer Analysis </span>\n",
    "1. Classify customers into segments based on the total revenue they have generated for the company.\n",
    " * low value: less than \\$1750  \n",
    " * medium value: between 1750 and 8250 dollars\n",
    " * high value: greater than \\$8250\n",
    "1. How many customers are in each segment? \n",
    "1. Using the pivot table function, create a table that displays the average order quantity of each stock code for a given segment.\n",
    "1. Are the items with the highest average order quantity generally the same across segments? Explain your reasoning. \n",
    "1. Choose three items and discuss any trends/differences you notice across the three segments.\n",
    "\n",
    "_Hint: When calculating the segment, we suggest constructing a new dataframe as an intermediary step with the columns: CustomerID, Revenue, Segment._"
   ]
  },
  {
   "cell_type": "code",
   "execution_count": 16,
   "metadata": {},
   "outputs": [],
   "source": [
    "# Sort costumers by their revenue for our reference\n",
    "df.groupby('CustomerID')['Revenue'].sum().sort_values(ascending=False).head(10)\n",
    "\n",
    "rev_segments = df.groupby('CustomerID')['Revenue'].sum().reset_index()\n",
    "\n",
    "# Cut customers into bins based on revenue\n",
    "rev_segments['Revenue Group'] = pd.cut(rev_segments['Revenue'], bins=[0, 1750, 8250, float('inf')], labels=['Low Value', 'Medium Value', 'High Value'])"
   ]
  },
  {
   "cell_type": "code",
   "execution_count": 17,
   "metadata": {},
   "outputs": [
    {
     "data": {
      "text/plain": [
       "Revenue Group\n",
       "Low Value       2845\n",
       "Medium Value    1254\n",
       "High Value       240\n",
       "Name: count, dtype: int64"
      ]
     },
     "execution_count": 17,
     "metadata": {},
     "output_type": "execute_result"
    }
   ],
   "source": [
    "rev_segments['Revenue Group'].value_counts()"
   ]
  },
  {
   "cell_type": "code",
   "execution_count": 18,
   "metadata": {},
   "outputs": [
    {
     "data": {
      "text/html": [
       "<div>\n",
       "<style scoped>\n",
       "    .dataframe tbody tr th:only-of-type {\n",
       "        vertical-align: middle;\n",
       "    }\n",
       "\n",
       "    .dataframe tbody tr th {\n",
       "        vertical-align: top;\n",
       "    }\n",
       "\n",
       "    .dataframe thead th {\n",
       "        text-align: right;\n",
       "    }\n",
       "</style>\n",
       "<table border=\"1\" class=\"dataframe\">\n",
       "  <thead>\n",
       "    <tr style=\"text-align: right;\">\n",
       "      <th></th>\n",
       "      <th>InvoiceNo</th>\n",
       "      <th>InvoiceDate</th>\n",
       "      <th>CustomerID</th>\n",
       "      <th>Country</th>\n",
       "      <th>StockCodeSC</th>\n",
       "      <th>Quantity</th>\n",
       "      <th>Description</th>\n",
       "      <th>UnitPrice</th>\n",
       "      <th>Revenue</th>\n",
       "      <th>Revenue Group</th>\n",
       "    </tr>\n",
       "  </thead>\n",
       "  <tbody>\n",
       "    <tr>\n",
       "      <th>0</th>\n",
       "      <td>536365</td>\n",
       "      <td>12/1/10 8:26</td>\n",
       "      <td>17850.0</td>\n",
       "      <td>United Kingdom</td>\n",
       "      <td>SC85123A</td>\n",
       "      <td>6</td>\n",
       "      <td>WHITE HANGING HEART T-LIGHT HOLDER</td>\n",
       "      <td>2.55</td>\n",
       "      <td>19.125</td>\n",
       "      <td>Medium Value</td>\n",
       "    </tr>\n",
       "    <tr>\n",
       "      <th>1</th>\n",
       "      <td>536365</td>\n",
       "      <td>12/1/10 8:26</td>\n",
       "      <td>17850.0</td>\n",
       "      <td>United Kingdom</td>\n",
       "      <td>SC71053</td>\n",
       "      <td>6</td>\n",
       "      <td>WHITE METAL LANTERN</td>\n",
       "      <td>3.39</td>\n",
       "      <td>25.425</td>\n",
       "      <td>Medium Value</td>\n",
       "    </tr>\n",
       "    <tr>\n",
       "      <th>2</th>\n",
       "      <td>536365</td>\n",
       "      <td>12/1/10 8:26</td>\n",
       "      <td>17850.0</td>\n",
       "      <td>United Kingdom</td>\n",
       "      <td>SC84406B</td>\n",
       "      <td>8</td>\n",
       "      <td>CREAM CUPID HEARTS COAT HANGER</td>\n",
       "      <td>2.75</td>\n",
       "      <td>27.500</td>\n",
       "      <td>Medium Value</td>\n",
       "    </tr>\n",
       "    <tr>\n",
       "      <th>3</th>\n",
       "      <td>536365</td>\n",
       "      <td>12/1/10 8:26</td>\n",
       "      <td>17850.0</td>\n",
       "      <td>United Kingdom</td>\n",
       "      <td>SC84029G</td>\n",
       "      <td>6</td>\n",
       "      <td>KNITTED UNION FLAG HOT WATER BOTTLE</td>\n",
       "      <td>3.39</td>\n",
       "      <td>25.425</td>\n",
       "      <td>Medium Value</td>\n",
       "    </tr>\n",
       "    <tr>\n",
       "      <th>4</th>\n",
       "      <td>536365</td>\n",
       "      <td>12/1/10 8:26</td>\n",
       "      <td>17850.0</td>\n",
       "      <td>United Kingdom</td>\n",
       "      <td>SC84029E</td>\n",
       "      <td>6</td>\n",
       "      <td>RED WOOLLY HOTTIE WHITE HEART.</td>\n",
       "      <td>3.39</td>\n",
       "      <td>25.425</td>\n",
       "      <td>Medium Value</td>\n",
       "    </tr>\n",
       "  </tbody>\n",
       "</table>\n",
       "</div>"
      ],
      "text/plain": [
       "  InvoiceNo   InvoiceDate  CustomerID         Country StockCodeSC  Quantity  \\\n",
       "0    536365  12/1/10 8:26     17850.0  United Kingdom    SC85123A         6   \n",
       "1    536365  12/1/10 8:26     17850.0  United Kingdom     SC71053         6   \n",
       "2    536365  12/1/10 8:26     17850.0  United Kingdom    SC84406B         8   \n",
       "3    536365  12/1/10 8:26     17850.0  United Kingdom    SC84029G         6   \n",
       "4    536365  12/1/10 8:26     17850.0  United Kingdom    SC84029E         6   \n",
       "\n",
       "                           Description  UnitPrice  Revenue Revenue Group  \n",
       "0   WHITE HANGING HEART T-LIGHT HOLDER       2.55   19.125  Medium Value  \n",
       "1                  WHITE METAL LANTERN       3.39   25.425  Medium Value  \n",
       "2       CREAM CUPID HEARTS COAT HANGER       2.75   27.500  Medium Value  \n",
       "3  KNITTED UNION FLAG HOT WATER BOTTLE       3.39   25.425  Medium Value  \n",
       "4       RED WOOLLY HOTTIE WHITE HEART.       3.39   25.425  Medium Value  "
      ]
     },
     "execution_count": 18,
     "metadata": {},
     "output_type": "execute_result"
    }
   ],
   "source": [
    "# Merge the revenue segments with the original dataframe\n",
    "df = df.merge(rev_segments[['CustomerID', 'Revenue Group']], left_on='CustomerID', right_on='CustomerID')\n",
    "df.head()"
   ]
  },
  {
   "cell_type": "code",
   "execution_count": 19,
   "metadata": {},
   "outputs": [
    {
     "data": {
      "text/html": [
       "<div>\n",
       "<style scoped>\n",
       "    .dataframe tbody tr th:only-of-type {\n",
       "        vertical-align: middle;\n",
       "    }\n",
       "\n",
       "    .dataframe tbody tr th {\n",
       "        vertical-align: top;\n",
       "    }\n",
       "\n",
       "    .dataframe thead th {\n",
       "        text-align: right;\n",
       "    }\n",
       "</style>\n",
       "<table border=\"1\" class=\"dataframe\">\n",
       "  <thead>\n",
       "    <tr style=\"text-align: right;\">\n",
       "      <th>Revenue Group</th>\n",
       "      <th>Low Value</th>\n",
       "      <th>Medium Value</th>\n",
       "      <th>High Value</th>\n",
       "    </tr>\n",
       "    <tr>\n",
       "      <th>StockCodeSC</th>\n",
       "      <th></th>\n",
       "      <th></th>\n",
       "      <th></th>\n",
       "    </tr>\n",
       "  </thead>\n",
       "  <tbody>\n",
       "    <tr>\n",
       "      <th>SC17096</th>\n",
       "      <td>516.750000</td>\n",
       "      <td>36.714286</td>\n",
       "      <td>96.000000</td>\n",
       "    </tr>\n",
       "    <tr>\n",
       "      <th>SC84568</th>\n",
       "      <td>452.571429</td>\n",
       "      <td>288.000000</td>\n",
       "      <td>840.000000</td>\n",
       "    </tr>\n",
       "    <tr>\n",
       "      <th>SC84598</th>\n",
       "      <td>288.000000</td>\n",
       "      <td>288.000000</td>\n",
       "      <td>192.000000</td>\n",
       "    </tr>\n",
       "    <tr>\n",
       "      <th>SC16045</th>\n",
       "      <td>151.851852</td>\n",
       "      <td>103.846154</td>\n",
       "      <td>131.250000</td>\n",
       "    </tr>\n",
       "    <tr>\n",
       "      <th>SC16259</th>\n",
       "      <td>122.833333</td>\n",
       "      <td>86.166667</td>\n",
       "      <td>124.571429</td>\n",
       "    </tr>\n",
       "    <tr>\n",
       "      <th>SC17084R</th>\n",
       "      <td>120.000000</td>\n",
       "      <td>80.000000</td>\n",
       "      <td>248.000000</td>\n",
       "    </tr>\n",
       "    <tr>\n",
       "      <th>SC16049</th>\n",
       "      <td>90.000000</td>\n",
       "      <td>144.000000</td>\n",
       "      <td>90.000000</td>\n",
       "    </tr>\n",
       "    <tr>\n",
       "      <th>SC21641</th>\n",
       "      <td>79.000000</td>\n",
       "      <td>30.000000</td>\n",
       "      <td>32.222222</td>\n",
       "    </tr>\n",
       "    <tr>\n",
       "      <th>SC17001</th>\n",
       "      <td>72.000000</td>\n",
       "      <td>NaN</td>\n",
       "      <td>NaN</td>\n",
       "    </tr>\n",
       "    <tr>\n",
       "      <th>SC17003</th>\n",
       "      <td>69.242857</td>\n",
       "      <td>73.546392</td>\n",
       "      <td>261.476190</td>\n",
       "    </tr>\n",
       "  </tbody>\n",
       "</table>\n",
       "</div>"
      ],
      "text/plain": [
       "Revenue Group   Low Value  Medium Value  High Value\n",
       "StockCodeSC                                        \n",
       "SC17096        516.750000     36.714286   96.000000\n",
       "SC84568        452.571429    288.000000  840.000000\n",
       "SC84598        288.000000    288.000000  192.000000\n",
       "SC16045        151.851852    103.846154  131.250000\n",
       "SC16259        122.833333     86.166667  124.571429\n",
       "SC17084R       120.000000     80.000000  248.000000\n",
       "SC16049         90.000000    144.000000   90.000000\n",
       "SC21641         79.000000     30.000000   32.222222\n",
       "SC17001         72.000000           NaN         NaN\n",
       "SC17003         69.242857     73.546392  261.476190"
      ]
     },
     "execution_count": 19,
     "metadata": {},
     "output_type": "execute_result"
    }
   ],
   "source": [
    "\n",
    "df.pivot_table(index='StockCodeSC', columns='Revenue Group', values='Quantity', aggfunc='mean').sort_values('Low Value', ascending=False).head(10)"
   ]
  },
  {
   "cell_type": "markdown",
   "metadata": {},
   "source": [
    "### Revenue Groups\n",
    "There were **2845** Customers in the `Low Value` group, **1254** Customers in the `Medium Value` group, and **240** Customers in the `High Value` group.\n",
    "\n",
    "### Items quantity across gruops\n",
    "Based on the pivot table there appears to be a slight correlation between the top items ordered for each revenue group\n",
    "\n",
    "For example **SC84568** was one of the highest average order quantity item across all three groups\n",
    "\n",
    "However, if we look at items like **SC17096** and **SC17001** we see that they have much higher order quantities for the `low value` group than the other two\n"
   ]
  },
  {
   "cell_type": "markdown",
   "metadata": {},
   "source": [
    "# Please submit your completed notebook in .IPYNB and .HTML formats via Canvas"
   ]
  },
  {
   "cell_type": "code",
   "execution_count": null,
   "metadata": {},
   "outputs": [],
   "source": []
  }
 ],
 "metadata": {
  "kernelspec": {
   "display_name": "Python 3 (ipykernel)",
   "language": "python",
   "name": "python3"
  },
  "language_info": {
   "codemirror_mode": {
    "name": "ipython",
    "version": 3
   },
   "file_extension": ".py",
   "mimetype": "text/x-python",
   "name": "python",
   "nbconvert_exporter": "python",
   "pygments_lexer": "ipython3",
   "version": "3.11.4"
  }
 },
 "nbformat": 4,
 "nbformat_minor": 4
}
