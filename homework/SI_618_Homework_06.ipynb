{
 "cells": [
  {
   "cell_type": "markdown",
   "metadata": {},
   "source": [
    "# SI 618 - Homework #6: Machine Learning 1\n",
    "\n",
    "Version 2023.11.01.1.CT"
   ]
  },
  {
   "cell_type": "markdown",
   "metadata": {},
   "source": [
    "In this homework exercise you will apply the machine learning techniques we've covered so far: \n",
    "machine learning pipelines, dimension reduction, and clustering.\n",
    "\n",
    "You will be using the [customer personality analysis dataset](https://www.kaggle.com/datasets/imakash3011/customer-personality-analysis) from Kaggle.\n",
    "\n",
    "**NOTE:** This is a fairly involved homework assignment and we *strongly* urge you to not leave this to the last minute.\n",
    "We suggest that you try to work on this assignment over several days.\n",
    "\n",
    "A reminder (from the syllabus):\n",
    "> Unless stated otherwise in an assignment, you are permitted to use generative AI (e.g. ChatGPT, Copilot, etc.) but you must indicate  that you did so in the work that you submit.  **If you fail to \n",
    ">  disclose your use of generative AI you will receive a grade of\n",
    "> zero on the assignment**.\n",
    "\n",
    "### The total score for this assignment will be 100 points, consisting of:\n",
    "- 10 pt: Overall quality of spelling, grammar, punctuation, etc. of written sentences. ([Guide](https://drive.google.com/file/d/1L0P7xJwjUGBvyb49mL3dw1Bt7hzRTiTl/view ))\n",
    "- 10 pt: Code is written in [PEP 8](https://www.python.org/dev/peps/pep-0008/) style.\n",
    "- 80 pt: Homework questions. "
   ]
  },
  {
   "cell_type": "code",
   "execution_count": 15,
   "metadata": {},
   "outputs": [],
   "source": [
    "MY_UNIQNAME = \"mattcalc\"  # fill this in with your uniqname"
   ]
  },
  {
   "cell_type": "markdown",
   "metadata": {},
   "source": [
    "## Task 1 (10 points):\n",
    "Perform exploratory data analyses on the variables in this dataset.  Your work should include both\n",
    "numerical **and** graphical overviews of the data.  Explain your findings.  "
   ]
  },
  {
   "cell_type": "code",
   "execution_count": 14,
   "metadata": {},
   "outputs": [],
   "source": [
    "import pandas as pd\n",
    "import numpy as np\n",
    "import seaborn as sns\n",
    "import matplotlib.pyplot as plt\n",
    "import warnings\n",
    "\n",
    "warnings.filterwarnings(\"ignore\")"
   ]
  },
  {
   "cell_type": "code",
   "execution_count": 2,
   "metadata": {},
   "outputs": [],
   "source": [
    "customer_df = pd.read_csv(\"../data/marketing_campaign.csv\", delimiter=\"\\t\")\n",
    "customer_df.columns = customer_df.columns.str.lower()"
   ]
  },
  {
   "cell_type": "code",
   "execution_count": 3,
   "metadata": {},
   "outputs": [
    {
     "data": {
      "text/html": [
       "<div>\n",
       "<style scoped>\n",
       "    .dataframe tbody tr th:only-of-type {\n",
       "        vertical-align: middle;\n",
       "    }\n",
       "\n",
       "    .dataframe tbody tr th {\n",
       "        vertical-align: top;\n",
       "    }\n",
       "\n",
       "    .dataframe thead th {\n",
       "        text-align: right;\n",
       "    }\n",
       "</style>\n",
       "<table border=\"1\" class=\"dataframe\">\n",
       "  <thead>\n",
       "    <tr style=\"text-align: right;\">\n",
       "      <th></th>\n",
       "      <th>id</th>\n",
       "      <th>year_birth</th>\n",
       "      <th>education</th>\n",
       "      <th>marital_status</th>\n",
       "      <th>income</th>\n",
       "      <th>kidhome</th>\n",
       "      <th>teenhome</th>\n",
       "      <th>dt_customer</th>\n",
       "      <th>recency</th>\n",
       "      <th>mntwines</th>\n",
       "      <th>...</th>\n",
       "      <th>numwebvisitsmonth</th>\n",
       "      <th>acceptedcmp3</th>\n",
       "      <th>acceptedcmp4</th>\n",
       "      <th>acceptedcmp5</th>\n",
       "      <th>acceptedcmp1</th>\n",
       "      <th>acceptedcmp2</th>\n",
       "      <th>complain</th>\n",
       "      <th>z_costcontact</th>\n",
       "      <th>z_revenue</th>\n",
       "      <th>response</th>\n",
       "    </tr>\n",
       "  </thead>\n",
       "  <tbody>\n",
       "    <tr>\n",
       "      <th>0</th>\n",
       "      <td>5524</td>\n",
       "      <td>1957</td>\n",
       "      <td>Graduation</td>\n",
       "      <td>Single</td>\n",
       "      <td>58138.0</td>\n",
       "      <td>0</td>\n",
       "      <td>0</td>\n",
       "      <td>04-09-2012</td>\n",
       "      <td>58</td>\n",
       "      <td>635</td>\n",
       "      <td>...</td>\n",
       "      <td>7</td>\n",
       "      <td>0</td>\n",
       "      <td>0</td>\n",
       "      <td>0</td>\n",
       "      <td>0</td>\n",
       "      <td>0</td>\n",
       "      <td>0</td>\n",
       "      <td>3</td>\n",
       "      <td>11</td>\n",
       "      <td>1</td>\n",
       "    </tr>\n",
       "    <tr>\n",
       "      <th>1</th>\n",
       "      <td>2174</td>\n",
       "      <td>1954</td>\n",
       "      <td>Graduation</td>\n",
       "      <td>Single</td>\n",
       "      <td>46344.0</td>\n",
       "      <td>1</td>\n",
       "      <td>1</td>\n",
       "      <td>08-03-2014</td>\n",
       "      <td>38</td>\n",
       "      <td>11</td>\n",
       "      <td>...</td>\n",
       "      <td>5</td>\n",
       "      <td>0</td>\n",
       "      <td>0</td>\n",
       "      <td>0</td>\n",
       "      <td>0</td>\n",
       "      <td>0</td>\n",
       "      <td>0</td>\n",
       "      <td>3</td>\n",
       "      <td>11</td>\n",
       "      <td>0</td>\n",
       "    </tr>\n",
       "    <tr>\n",
       "      <th>2</th>\n",
       "      <td>4141</td>\n",
       "      <td>1965</td>\n",
       "      <td>Graduation</td>\n",
       "      <td>Together</td>\n",
       "      <td>71613.0</td>\n",
       "      <td>0</td>\n",
       "      <td>0</td>\n",
       "      <td>21-08-2013</td>\n",
       "      <td>26</td>\n",
       "      <td>426</td>\n",
       "      <td>...</td>\n",
       "      <td>4</td>\n",
       "      <td>0</td>\n",
       "      <td>0</td>\n",
       "      <td>0</td>\n",
       "      <td>0</td>\n",
       "      <td>0</td>\n",
       "      <td>0</td>\n",
       "      <td>3</td>\n",
       "      <td>11</td>\n",
       "      <td>0</td>\n",
       "    </tr>\n",
       "    <tr>\n",
       "      <th>3</th>\n",
       "      <td>6182</td>\n",
       "      <td>1984</td>\n",
       "      <td>Graduation</td>\n",
       "      <td>Together</td>\n",
       "      <td>26646.0</td>\n",
       "      <td>1</td>\n",
       "      <td>0</td>\n",
       "      <td>10-02-2014</td>\n",
       "      <td>26</td>\n",
       "      <td>11</td>\n",
       "      <td>...</td>\n",
       "      <td>6</td>\n",
       "      <td>0</td>\n",
       "      <td>0</td>\n",
       "      <td>0</td>\n",
       "      <td>0</td>\n",
       "      <td>0</td>\n",
       "      <td>0</td>\n",
       "      <td>3</td>\n",
       "      <td>11</td>\n",
       "      <td>0</td>\n",
       "    </tr>\n",
       "    <tr>\n",
       "      <th>4</th>\n",
       "      <td>5324</td>\n",
       "      <td>1981</td>\n",
       "      <td>PhD</td>\n",
       "      <td>Married</td>\n",
       "      <td>58293.0</td>\n",
       "      <td>1</td>\n",
       "      <td>0</td>\n",
       "      <td>19-01-2014</td>\n",
       "      <td>94</td>\n",
       "      <td>173</td>\n",
       "      <td>...</td>\n",
       "      <td>5</td>\n",
       "      <td>0</td>\n",
       "      <td>0</td>\n",
       "      <td>0</td>\n",
       "      <td>0</td>\n",
       "      <td>0</td>\n",
       "      <td>0</td>\n",
       "      <td>3</td>\n",
       "      <td>11</td>\n",
       "      <td>0</td>\n",
       "    </tr>\n",
       "  </tbody>\n",
       "</table>\n",
       "<p>5 rows × 29 columns</p>\n",
       "</div>"
      ],
      "text/plain": [
       "     id  year_birth   education marital_status   income  kidhome  teenhome  \\\n",
       "0  5524        1957  Graduation         Single  58138.0        0         0   \n",
       "1  2174        1954  Graduation         Single  46344.0        1         1   \n",
       "2  4141        1965  Graduation       Together  71613.0        0         0   \n",
       "3  6182        1984  Graduation       Together  26646.0        1         0   \n",
       "4  5324        1981         PhD        Married  58293.0        1         0   \n",
       "\n",
       "  dt_customer  recency  mntwines  ...  numwebvisitsmonth  acceptedcmp3  \\\n",
       "0  04-09-2012       58       635  ...                  7             0   \n",
       "1  08-03-2014       38        11  ...                  5             0   \n",
       "2  21-08-2013       26       426  ...                  4             0   \n",
       "3  10-02-2014       26        11  ...                  6             0   \n",
       "4  19-01-2014       94       173  ...                  5             0   \n",
       "\n",
       "   acceptedcmp4  acceptedcmp5  acceptedcmp1  acceptedcmp2  complain  \\\n",
       "0             0             0             0             0         0   \n",
       "1             0             0             0             0         0   \n",
       "2             0             0             0             0         0   \n",
       "3             0             0             0             0         0   \n",
       "4             0             0             0             0         0   \n",
       "\n",
       "   z_costcontact  z_revenue  response  \n",
       "0              3         11         1  \n",
       "1              3         11         0  \n",
       "2              3         11         0  \n",
       "3              3         11         0  \n",
       "4              3         11         0  \n",
       "\n",
       "[5 rows x 29 columns]"
      ]
     },
     "execution_count": 3,
     "metadata": {},
     "output_type": "execute_result"
    }
   ],
   "source": [
    "customer_df.head()"
   ]
  },
  {
   "cell_type": "code",
   "execution_count": 4,
   "metadata": {},
   "outputs": [
    {
     "name": "stdout",
     "output_type": "stream",
     "text": [
      "<class 'pandas.core.frame.DataFrame'>\n",
      "RangeIndex: 2240 entries, 0 to 2239\n",
      "Data columns (total 29 columns):\n",
      " #   Column               Non-Null Count  Dtype  \n",
      "---  ------               --------------  -----  \n",
      " 0   id                   2240 non-null   int64  \n",
      " 1   year_birth           2240 non-null   int64  \n",
      " 2   education            2240 non-null   object \n",
      " 3   marital_status       2240 non-null   object \n",
      " 4   income               2216 non-null   float64\n",
      " 5   kidhome              2240 non-null   int64  \n",
      " 6   teenhome             2240 non-null   int64  \n",
      " 7   dt_customer          2240 non-null   object \n",
      " 8   recency              2240 non-null   int64  \n",
      " 9   mntwines             2240 non-null   int64  \n",
      " 10  mntfruits            2240 non-null   int64  \n",
      " 11  mntmeatproducts      2240 non-null   int64  \n",
      " 12  mntfishproducts      2240 non-null   int64  \n",
      " 13  mntsweetproducts     2240 non-null   int64  \n",
      " 14  mntgoldprods         2240 non-null   int64  \n",
      " 15  numdealspurchases    2240 non-null   int64  \n",
      " 16  numwebpurchases      2240 non-null   int64  \n",
      " 17  numcatalogpurchases  2240 non-null   int64  \n",
      " 18  numstorepurchases    2240 non-null   int64  \n",
      " 19  numwebvisitsmonth    2240 non-null   int64  \n",
      " 20  acceptedcmp3         2240 non-null   int64  \n",
      " 21  acceptedcmp4         2240 non-null   int64  \n",
      " 22  acceptedcmp5         2240 non-null   int64  \n",
      " 23  acceptedcmp1         2240 non-null   int64  \n",
      " 24  acceptedcmp2         2240 non-null   int64  \n",
      " 25  complain             2240 non-null   int64  \n",
      " 26  z_costcontact        2240 non-null   int64  \n",
      " 27  z_revenue            2240 non-null   int64  \n",
      " 28  response             2240 non-null   int64  \n",
      "dtypes: float64(1), int64(25), object(3)\n",
      "memory usage: 507.6+ KB\n"
     ]
    }
   ],
   "source": [
    "customer_df.info()"
   ]
  },
  {
   "cell_type": "code",
   "execution_count": 9,
   "metadata": {},
   "outputs": [
    {
     "data": {
      "text/plain": [
       "id                     False\n",
       "year_birth             False\n",
       "education              False\n",
       "marital_status         False\n",
       "income                  True\n",
       "kidhome                False\n",
       "teenhome               False\n",
       "dt_customer            False\n",
       "recency                False\n",
       "mntwines               False\n",
       "mntfruits              False\n",
       "mntmeatproducts        False\n",
       "mntfishproducts        False\n",
       "mntsweetproducts       False\n",
       "mntgoldprods           False\n",
       "numdealspurchases      False\n",
       "numwebpurchases        False\n",
       "numcatalogpurchases    False\n",
       "numstorepurchases      False\n",
       "numwebvisitsmonth      False\n",
       "acceptedcmp3           False\n",
       "acceptedcmp4           False\n",
       "acceptedcmp5           False\n",
       "acceptedcmp1           False\n",
       "acceptedcmp2           False\n",
       "complain               False\n",
       "z_costcontact          False\n",
       "z_revenue              False\n",
       "response               False\n",
       "dtype: bool"
      ]
     },
     "execution_count": 9,
     "metadata": {},
     "output_type": "execute_result"
    }
   ],
   "source": [
    "customer_df.isna().any(axis=0)"
   ]
  },
  {
   "cell_type": "code",
   "execution_count": 18,
   "metadata": {},
   "outputs": [
    {
     "data": {
      "text/plain": [
       "Index(['id', 'year_birth', 'education', 'marital_status', 'income', 'kidhome',\n",
       "       'teenhome', 'dt_customer', 'recency', 'mntwines', 'mntfruits',\n",
       "       'mntmeatproducts', 'mntfishproducts', 'mntsweetproducts',\n",
       "       'mntgoldprods', 'numdealspurchases', 'numwebpurchases',\n",
       "       'numcatalogpurchases', 'numstorepurchases', 'numwebvisitsmonth',\n",
       "       'acceptedcmp3', 'acceptedcmp4', 'acceptedcmp5', 'acceptedcmp1',\n",
       "       'acceptedcmp2', 'complain', 'z_costcontact', 'z_revenue', 'response'],\n",
       "      dtype='object')"
      ]
     },
     "execution_count": 18,
     "metadata": {},
     "output_type": "execute_result"
    }
   ],
   "source": [
    "customer_df.columns"
   ]
  },
  {
   "cell_type": "markdown",
   "metadata": {},
   "source": [
    "#### Plots"
   ]
  },
  {
   "cell_type": "code",
   "execution_count": 21,
   "metadata": {},
   "outputs": [],
   "source": [
    "# for column in customer_df.columns:\n",
    "#     sns.histplot(customer_df[column])\n",
    "#     plt.title(\"Histogram of \" + column)\n",
    "#     plt.show()\n",
    "\n",
    "histogram_cols = [\n",
    "    \"year_birth\",\n",
    "    \"education\",\n",
    "    \"marital_status\",\n",
    "    \"income\",\n",
    "    \"recency\",\n",
    "    \"mntwines\",\n",
    "    \"mntfruits\",\n",
    "    \"mntmeatproducts\",\n",
    "    \"mntfishproducts\",\n",
    "    \"mntsweetproducts\",\n",
    "    \"mntgoldprods\",\n",
    "    \"numdealspurchases\",\n",
    "    \"numwebpurchases\",\n",
    "    \"numcatalogpurchases\",\n",
    "    \"numstorepurchases\",\n",
    "    \"numwebvisitsmonth\",\n",
    "]\n",
    "\n",
    "# for column in histogram_cols:\n",
    "#     sns.histplot(customer_df[column])\n",
    "#     plt.title(\"Histogram of \" + column)\n",
    "#     plt.show()"
   ]
  },
  {
   "cell_type": "code",
   "execution_count": 24,
   "metadata": {},
   "outputs": [],
   "source": [
    "def basic_histogram(column):\n",
    "    plot = sns.histplot(column)\n",
    "    plt.title(\"Histogram of \" + column.name)\n",
    "    print(column.describe())\n",
    "    return plot"
   ]
  },
  {
   "cell_type": "code",
   "execution_count": 25,
   "metadata": {},
   "outputs": [
    {
     "name": "stdout",
     "output_type": "stream",
     "text": [
      "count    2240.000000\n",
      "mean     1968.805804\n",
      "std        11.984069\n",
      "min      1893.000000\n",
      "25%      1959.000000\n",
      "50%      1970.000000\n",
      "75%      1977.000000\n",
      "max      1996.000000\n",
      "Name: year_birth, dtype: float64\n"
     ]
    },
    {
     "data": {
      "text/plain": [
       "<Axes: title={'center': 'Histogram of year_birth'}, xlabel='year_birth', ylabel='Count'>"
      ]
     },
     "execution_count": 25,
     "metadata": {},
     "output_type": "execute_result"
    },
    {
     "data": {
      "image/png": "[encoded data removed]",
      "text/plain": [
       "<Figure size 640x480 with 1 Axes>"
      ]
     },
     "metadata": {},
     "output_type": "display_data"
    }
   ],
   "source": [
    "basic_histogram(customer_df[\"year_birth\"])"
   ]
  },
  {
   "cell_type": "code",
   "execution_count": 26,
   "metadata": {},
   "outputs": [
    {
     "name": "stdout",
     "output_type": "stream",
     "text": [
      "count           2240\n",
      "unique             5\n",
      "top       Graduation\n",
      "freq            1127\n",
      "Name: education, dtype: object\n"
     ]
    },
    {
     "data": {
      "text/plain": [
       "<Axes: title={'center': 'Histogram of education'}, xlabel='education', ylabel='Count'>"
      ]
     },
     "execution_count": 26,
     "metadata": {},
     "output_type": "execute_result"
    },
    {
     "data": {
      "image/png": "[encoded data removed]",
      "text/plain": [
       "<Figure size 640x480 with 1 Axes>"
      ]
     },
     "metadata": {},
     "output_type": "display_data"
    }
   ],
   "source": [
    "basic_histogram(customer_df[\"education\"])"
   ]
  },
  {
   "cell_type": "code",
   "execution_count": 29,
   "metadata": {},
   "outputs": [
    {
     "data": {
      "image/png": "[encoded data removed]",
      "text/plain": [
       "<Figure size 2000x500 with 5 Axes>"
      ]
     },
     "metadata": {},
     "output_type": "display_data"
    }
   ],
   "source": [
    "fig, axes = plt.subplots(1, 5, figsize=(20, 5))\n",
    "fig.suptitle(\n",
    "    \"Distribtion of amount spent of different categories over the last 2 years\"\n",
    ")\n",
    "sns.histplot(customer_df[\"mntwines\"], ax=axes[0])\n",
    "axes[0].set_title(\"Wines\")\n",
    "sns.histplot(customer_df[\"mntfruits\"], ax=axes[1])\n",
    "axes[1].set_title(\"Fruits\")\n",
    "sns.histplot(customer_df[\"mntmeatproducts\"], ax=axes[2])\n",
    "axes[2].set_title(\"Meat Products\")\n",
    "sns.histplot(customer_df[\"mntfishproducts\"], ax=axes[3])\n",
    "axes[3].set_title(\"Fish Products\")\n",
    "sns.histplot(customer_df[\"mntsweetproducts\"], ax=axes[4])\n",
    "axes[4].set_title(\"Sweet Products\")\n",
    "plt.show()"
   ]
  },
  {
   "cell_type": "code",
   "execution_count": 30,
   "metadata": {},
   "outputs": [
    {
     "name": "stdout",
     "output_type": "stream",
     "text": [
      "count      2216.000000\n",
      "mean      52247.251354\n",
      "std       25173.076661\n",
      "min        1730.000000\n",
      "25%       35303.000000\n",
      "50%       51381.500000\n",
      "75%       68522.000000\n",
      "max      666666.000000\n",
      "Name: income, dtype: float64\n"
     ]
    },
    {
     "data": {
      "text/plain": [
       "<Axes: title={'center': 'Histogram of income'}, xlabel='income', ylabel='Count'>"
      ]
     },
     "execution_count": 30,
     "metadata": {},
     "output_type": "execute_result"
    },
    {
     "data": {
      "image/png": "[encoded data removed]",
      "text/plain": [
       "<Figure size 640x480 with 1 Axes>"
      ]
     },
     "metadata": {},
     "output_type": "display_data"
    }
   ],
   "source": [
    "basic_histogram(customer_df[\"income\"])"
   ]
  },
  {
   "cell_type": "markdown",
   "metadata": {},
   "source": [
    "Insert your explanations and interpretations here. You may use multiple cells if you wish.\n",
    "# Data Overview\n",
    "### Null Values\n",
    "The dataset has 2240 rows and 29 columns. There is one column with null values `income`\n",
    "\n",
    "\n",
    "#### year_birth\n",
    "The year_birth column has a minimum value of 1893 and a maximum value of 2001. The mean is 1968.8 and the median is 1970. The standard deviation is 11.98. The distribution is roughly normal and there are a few outliers on the left side of the distribution around 1900.\n",
    "\n",
    "#### education\n",
    "There are 5 value in the dataset for education. The most common value is  graduation. The least common value was Basic. \n",
    "\n",
    "It is important to note that there is a 2n Cycle value which corresponds to graduate or master level studies. \n",
    "\n",
    "#### Amount spent in the last 2 years\n",
    "There are 5 variables which represent the amount which the customers have spent on different categories over the last 2 years:\n",
    "- mntwines\n",
    "- mntfruits\n",
    "- mntmeatproducts\n",
    "- mntfishproducts\n",
    "- mntsweetproducts\n",
    "\n",
    "The distributions for each category were graphed and found to be very similar. The distribtion for each of the categories is skewed to the right, with the majority of customers spending around 0, and the number of customers reduces and the amount spent increases. \n",
    "\n",
    "#### Income\n",
    "The income column has a minimum value of 1730 and a maximum value of 666666. The mean is 52247.25 and the median is 51381.5. The standard deviation is 25173.08. The outlier at 666,666 is assumed to not be an exact value is is likely a data entry error, or a value greater than 666,666 which exceeds the maximum income of the system. \n",
    "\n",
    "The distribution of incomes appears to be roughly normal with a slight right skew. There is a clustering of incomes  outside of the main distribution around 150,000.\n",
    "\n"
   ]
  },
  {
   "cell_type": "markdown",
   "metadata": {},
   "source": [
    "## Task 2 (1 point): Drop all columns that have constant values."
   ]
  },
  {
   "cell_type": "code",
   "execution_count": 51,
   "metadata": {},
   "outputs": [],
   "source": [
    "# insert your code here"
   ]
  },
  {
   "cell_type": "markdown",
   "metadata": {},
   "source": [
    "## Task 3 (1 point):\n",
    "Create a new variable `In_Relationship` whose value is 1 if the value of `Marital_Status` is \"Married\" or \"Together\" and 0 otherwise.  Drop the `Marital_Status` column."
   ]
  },
  {
   "cell_type": "code",
   "execution_count": 52,
   "metadata": {},
   "outputs": [],
   "source": [
    "# insert your code here"
   ]
  },
  {
   "cell_type": "markdown",
   "metadata": {},
   "source": [
    "## Task 4 (3 points):\n",
    "Impute missing income values with the median income.  Explain your results (i.e. what the median value was, how many values were imputed, how reliable you think the median value is, etc.)."
   ]
  },
  {
   "cell_type": "code",
   "execution_count": null,
   "metadata": {},
   "outputs": [],
   "source": [
    "# Insert your code here"
   ]
  },
  {
   "cell_type": "markdown",
   "metadata": {},
   "source": [
    "Insert your explanation here."
   ]
  },
  {
   "cell_type": "markdown",
   "metadata": {},
   "source": [
    "## Task 5 (15 points):\n",
    "Use scikit-learn to conduct a linear regression that models the amount spend on wine (`MntWines`) based on `Income` and whether they are in a relationship (`In_Relationship`).  Assess how good your model is by reporting the root mean squared error (RMSE) using the test dataset from an 80-20 train-test-split of the original dataset.  Explain what your value of RMSE means, and comment on how good you think your model is based on the RMSE value means."
   ]
  },
  {
   "cell_type": "code",
   "execution_count": 53,
   "metadata": {},
   "outputs": [],
   "source": [
    "# insert your code here"
   ]
  },
  {
   "cell_type": "markdown",
   "metadata": {},
   "source": [
    "Insert your explanation and interpretation here."
   ]
  },
  {
   "cell_type": "markdown",
   "metadata": {},
   "source": [
    "## Task 6 (20 points):\n",
    "Conduct an agglomerative clustering analysis to find 4 clusters using average linkage based on PCA projections of the original data onto 5 dimensions (use one-hot encoding on your categorical variables, and remember to scale your data before doing the PCA).  Report the percentage of variance retained in the first 5 principal components. \n",
    "\n",
    "Do not create a dendrogram. Instead, create a scatterplot of the first two principal components, colored by cluster membership.  Comment on the results of your clustering analysis.\n",
    "\n",
    "Repeat the above steps using 7 clusters.  Compare the results to the 4 cluster solution.  Which solution do you prefer and why?\n",
    "\n",
    "Keep in mind that one of the goals of cluster analysis with this dataset is creating customer segments.  Can you define customer segments by examining the characteristics of each cluster? (Hint: a groupby() by cluster membership might be helpful here.)"
   ]
  },
  {
   "cell_type": "code",
   "execution_count": null,
   "metadata": {},
   "outputs": [],
   "source": [
    "# insert your code here"
   ]
  },
  {
   "cell_type": "markdown",
   "metadata": {},
   "source": [
    "Insert your explanations and interpretations here."
   ]
  },
  {
   "cell_type": "markdown",
   "metadata": {
    "tags": []
   },
   "source": [
    "## Task 7 (20 points):\n",
    "Conduct a k-means clustering of the data.  Pre-process the data using a 5-dimensional PCA (use one-hot encoding on your categorical values and remember to scale your data before doing the PCA). Use the average silhouette score to determine the optimal number of clusters and show the silhouette plot for the clustering solution using the optimal number of clusters.\n",
    "\n",
    "Again, keep in mind that one of the goals of cluster analysis with this dataset is creating customer segments.  Can you define customer segments by examining the characteristics of each cluster? (Hint: a groupby() by cluster membership might be helpful here.)\n",
    "\n",
    "Compare the results to the agglomerative clustering you did in the previous task.  Which solution do you prefer and why?"
   ]
  },
  {
   "cell_type": "code",
   "execution_count": 55,
   "metadata": {},
   "outputs": [],
   "source": [
    "# insert your code here"
   ]
  },
  {
   "cell_type": "markdown",
   "metadata": {},
   "source": [
    "Insert your explanations and interpretations here."
   ]
  },
  {
   "cell_type": "markdown",
   "metadata": {},
   "source": [
    "## Task 8 (10 points):\n",
    "Show the results of a t-SNE analysis of the dataset.  Experiment with a variety of perplexity values and explain your final choice.  As with the previous questions, keep in mind that one of the goals of cluster analysis with this dataset is creating customer segments.  Can you define customer segments by examining the characteristics of each cluster?  How might you label the points in the t-SNE plot to show characteristics of each cluster?"
   ]
  },
  {
   "cell_type": "code",
   "execution_count": null,
   "metadata": {},
   "outputs": [],
   "source": [
    "# insert your code here"
   ]
  },
  {
   "cell_type": "markdown",
   "metadata": {},
   "source": [
    "Insert your explanations and interpretations here."
   ]
  },
  {
   "cell_type": "markdown",
   "metadata": {},
   "source": []
  },
  {
   "cell_type": "markdown",
   "metadata": {},
   "source": [
    "# NOTE\n",
    "We **strongly** recommend restarting your kernel and running your complete notebook from top to bottom\n",
    "before submitting your work to Canvas in both HTML and IPYNB formats."
   ]
  },
  {
   "cell_type": "code",
   "execution_count": null,
   "metadata": {},
   "outputs": [],
   "source": []
  }
 ],
 "metadata": {
  "kernelspec": {
   "display_name": "Python 3 (ipykernel)",
   "language": "python",
   "name": "python3"
  },
  "language_info": {
   "codemirror_mode": {
    "name": "ipython",
    "version": 3
   },
   "file_extension": ".py",
   "mimetype": "text/x-python",
   "name": "python",
   "nbconvert_exporter": "python",
   "pygments_lexer": "ipython3",
   "version": "3.10.6"
  }
 },
 "nbformat": 4,
 "nbformat_minor": 4
}
